{
 "cells": [
  {
   "cell_type": "markdown",
   "id": "e26fee1a-63eb-4040-a50b-9ff7b8405367",
   "metadata": {},
   "source": [
    "# Connect to Snowflake"
   ]
  },
  {
   "cell_type": "code",
   "execution_count": 1,
   "id": "f4e10110-5343-4b46-8ba4-eed5e107dbb0",
   "metadata": {},
   "outputs": [
    {
     "data": {
      "text/plain": [
       "True"
      ]
     },
     "execution_count": 1,
     "metadata": {},
     "output_type": "execute_result"
    }
   ],
   "source": [
    "from dotenv import load_dotenv\n",
    "load_dotenv()     # loads keys into os.environ so the rest of your code sees them"
   ]
  },
  {
   "cell_type": "code",
   "execution_count": 2,
   "id": "f5571488-204d-467a-afa0-5f08b5693ff0",
   "metadata": {},
   "outputs": [],
   "source": [
    "# authenticate into Snowflake\n",
    "from snowflake.snowpark import Session\n",
    "import os\n",
    "connection_parameters = {\n",
    "    \"account\": os.getenv('SNOWFLAKE_ACCOUNT'),\n",
    "    \"user\": os.getenv('SNOWFLAKE_USER'),\n",
    "    \"password\": os.getenv('SNOWFLAKE_PASSWORD'),\n",
    "    \"role\": os.getenv('SNOWFLAKE_ROLE'),\n",
    "    \"warehouse\": os.getenv('SNOWFLAKE_WAREHOUSE'),\n",
    "    \"database\": os.getenv('SNOWFLAKE_DATABASE'),\n",
    "    \"schema\": os.getenv('SNOWFLAKE_SCHEMA')\n",
    "}\n",
    "session = Session.builder.configs(connection_parameters).create()"
   ]
  },
  {
   "cell_type": "code",
   "execution_count": 3,
   "id": "8ca810f3-a98b-46cb-b954-b648478036b8",
   "metadata": {},
   "outputs": [
    {
     "name": "stdout",
     "output_type": "stream",
     "text": [
      "Session Current Account: \"WEVIRIP-NA38028\"\n"
     ]
    }
   ],
   "source": [
    "# check connection has been successful\n",
    "print(\"Session Current Account:\", session.get_current_account())"
   ]
  },
  {
   "cell_type": "markdown",
   "id": "0df313bf-7b5e-4ebc-a551-832cd1f49bf1",
   "metadata": {},
   "source": [
    "# Data Grouping"
   ]
  },
  {
   "cell_type": "code",
   "execution_count": 4,
   "id": "d0f16f72-522a-470f-b98f-3512f93fc670",
   "metadata": {},
   "outputs": [],
   "source": [
    "# load tables into session\n",
    "marketing_final = session.table('MARKETING_FINAL')\n"
   ]
  },
  {
   "cell_type": "code",
   "execution_count": 5,
   "id": "30415357-0d24-46ab-abf8-a711e37a67d6",
   "metadata": {},
   "outputs": [
    {
     "name": "stdout",
     "output_type": "stream",
     "text": [
      "-------------------------------\n",
      "|\"EDUCATION\"  |\"AVG(INCOME)\"  |\n",
      "-------------------------------\n",
      "|Graduation   |52720.373656   |\n",
      "|Master       |52917.534247   |\n",
      "|PhD          |56145.313929   |\n",
      "|Basic        |20306.259259   |\n",
      "|2n Cycle     |47633.190000   |\n",
      "-------------------------------\n",
      "\n"
     ]
    }
   ],
   "source": [
    "# perform an aggregation\n",
    "marketing_final.group_by('EDUCATION').mean('INCOME').show()"
   ]
  },
  {
   "cell_type": "code",
   "execution_count": 7,
   "id": "af4e8c73-5fa9-4fb6-a333-12c3bd68d957",
   "metadata": {},
   "outputs": [
    {
     "name": "stdout",
     "output_type": "stream",
     "text": [
      "------------------------------\n",
      "|\"EDUCATION\"  |\"AVG_INCOME\"  |\n",
      "------------------------------\n",
      "|Graduation   |52720.373656  |\n",
      "|Master       |52917.534247  |\n",
      "|PhD          |56145.313929  |\n",
      "|Basic        |20306.259259  |\n",
      "|2n Cycle     |47633.190000  |\n",
      "------------------------------\n",
      "\n"
     ]
    }
   ],
   "source": [
    "# aggregate and alias a column\n",
    "from snowflake.snowpark.functions import avg\n",
    "marketing_final.group_by('EDUCATION').agg(avg('INCOME').alias('Avg_Income')).show()"
   ]
  },
  {
   "cell_type": "code",
   "execution_count": 8,
   "id": "f36c92f9-b802-4d5c-987a-3fed28a77517",
   "metadata": {},
   "outputs": [
    {
     "name": "stdout",
     "output_type": "stream",
     "text": [
      "---------------------------------------\n",
      "|\"MARITAL_STATUS\"  |\"SUM(Z_REVENUE)\"  |\n",
      "---------------------------------------\n",
      "|Married           |9504              |\n",
      "|Single            |5280              |\n",
      "|Divorced          |2552              |\n",
      "|Widow             |847               |\n",
      "|Together          |6380              |\n",
      "|YOLO              |22                |\n",
      "|Absurd            |22                |\n",
      "|Alone             |33                |\n",
      "---------------------------------------\n",
      "\n"
     ]
    }
   ],
   "source": [
    "# use the function() method to pass the respective operation from Snowpark functions\n",
    "from snowflake.snowpark.functions import sum\n",
    "marketing_final.group_by('MARITAL_STATUS').function('sum')('Z_REVENUE').show()"
   ]
  },
  {
   "cell_type": "code",
   "execution_count": 9,
   "id": "490d748d-e5c8-4b79-aa38-d04b19dea343",
   "metadata": {},
   "outputs": [
    {
     "name": "stdout",
     "output_type": "stream",
     "text": [
      "------------------------------------\n",
      "|\"MARITAL_STATUS\"  |\"MAX(INCOME)\"  |\n",
      "------------------------------------\n",
      "|Together          |666666         |\n",
      "|Married           |160803         |\n",
      "|YOLO              |48432          |\n",
      "|Absurd            |79244          |\n",
      "|Divorced          |153924         |\n",
      "|Alone             |61331          |\n",
      "|Single            |113734         |\n",
      "|Widow             |85620          |\n",
      "------------------------------------\n",
      "\n"
     ]
    }
   ],
   "source": [
    "# calculate the maximum income by marital status\n",
    "from snowflake.snowpark.functions import max\n",
    "marketing_final.group_by('MARITAL_STATUS').agg(max('INCOME')).show()"
   ]
  },
  {
   "cell_type": "code",
   "execution_count": 11,
   "id": "d02a3bb2-1796-4da8-bd99-7d4fefa3b487",
   "metadata": {},
   "outputs": [
    {
     "name": "stdout",
     "output_type": "stream",
     "text": [
      "----------------------------------------------------\n",
      "|\"EDUCATION\"  |\"COUNT(LITERAL())\"  |\"MAX(INCOME)\"  |\n",
      "----------------------------------------------------\n",
      "|Graduation   |1127                |666666         |\n",
      "|Master       |370                 |157733         |\n",
      "|PhD          |486                 |162397         |\n",
      "|Basic        |54                  |34445          |\n",
      "|2n Cycle     |203                 |96547          |\n",
      "----------------------------------------------------\n",
      "\n"
     ]
    }
   ],
   "source": [
    "# find the count of different types of graduates and their maximum income\n",
    "from snowflake.snowpark.functions import col, count\n",
    "marketing_final.group_by('EDUCATION').agg((col('*'), \"count\"), max('INCOME')).show()"
   ]
  },
  {
   "cell_type": "code",
   "execution_count": 12,
   "id": "0f13bdd1-361d-405b-ad23-1d7f62da335a",
   "metadata": {},
   "outputs": [
    {
     "name": "stdout",
     "output_type": "stream",
     "text": [
      "------------------------------------------------------------------\n",
      "|\"EDUCATION\"  |\"MARITAL_STATUS\"  |\"AVG_INCOME\"  |\"SUM_PURCHASE\"  |\n",
      "------------------------------------------------------------------\n",
      "|PhD          |Single            |53314.614583  |568             |\n",
      "|2n Cycle     |Divorced          |49395.130435  |138             |\n",
      "|PhD          |Together          |56041.422414  |698             |\n",
      "|Graduation   |Divorced          |54526.042017  |697             |\n",
      "|PhD          |YOLO              |48432.000000  |12              |\n",
      "|Basic        |Widow             |22123.000000  |3               |\n",
      "|Master       |Married           |53286.028986  |815             |\n",
      "|PhD          |Married           |58138.031579  |1191            |\n",
      "|2n Cycle     |Married           |46201.100000  |440             |\n",
      "|Master       |Divorced          |50331.945946  |203             |\n",
      "------------------------------------------------------------------\n",
      "\n"
     ]
    }
   ],
   "source": [
    "# find out how people with different educations and marital statuses spend\n",
    "marketing_final.group_by(['EDUCATION', 'MARITAL_STATUS']).agg(avg('INCOME').alias('Avg_Income'), sum('NUMSTOREPURCHASES').alias('Sum_Purchase')).show()"
   ]
  },
  {
   "cell_type": "code",
   "execution_count": 13,
   "id": "7884961e-f5c3-4d81-a721-8b658998b2c3",
   "metadata": {},
   "outputs": [
    {
     "name": "stdout",
     "output_type": "stream",
     "text": [
      "------------------------------------------------------------------\n",
      "|\"EDUCATION\"  |\"MARITAL_STATUS\"  |\"AVG_INCOME\"  |\"SUM_PURCHASE\"  |\n",
      "------------------------------------------------------------------\n",
      "|2n Cycle     |Widow             |51392.200000  |37              |\n",
      "|2n Cycle     |Divorced          |49395.130435  |138             |\n",
      "|2n Cycle     |Single            |53673.944444  |194             |\n",
      "|2n Cycle     |Together          |44736.410714  |309             |\n",
      "|2n Cycle     |Married           |46201.100000  |440             |\n",
      "|Basic        |Divorced          |9548.000000   |3               |\n",
      "|Basic        |Widow             |22123.000000  |3               |\n",
      "|Basic        |Together          |21240.071429  |34              |\n",
      "|Basic        |Single            |18238.666667  |49              |\n",
      "|Basic        |Married           |21960.500000  |65              |\n",
      "------------------------------------------------------------------\n",
      "\n"
     ]
    }
   ],
   "source": [
    "# determine the relationship between EDUCATION, MARITAL_STATUS, and SUM_PURCHASE and sort results\n",
    "aggregate_result = marketing_final.group_by(['EDUCATION', 'MARITAL_STATUS']).agg(avg('INCOME').alias('Avg_Income'), sum('NUMSTOREPURCHASES').alias('Sum_Purchase'))\n",
    "aggregate_result.sort(col('EDUCATION').asc(), col('Sum_Purchase').asc()).show()"
   ]
  },
  {
   "cell_type": "markdown",
   "id": "3f672990-3eb0-4cd2-a533-b460484a0956",
   "metadata": {},
   "source": [
    "# Data Analysis"
   ]
  },
  {
   "cell_type": "code",
   "execution_count": null,
   "id": "d2689f15-1a14-4e24-862f-01dae937fcb6",
   "metadata": {},
   "outputs": [],
   "source": []
  },
  {
   "cell_type": "code",
   "execution_count": null,
   "id": "75002669-33c8-43d3-ab7e-4e44b79be498",
   "metadata": {},
   "outputs": [],
   "source": []
  },
  {
   "cell_type": "code",
   "execution_count": null,
   "id": "cf7b5fed-ac90-43f8-b848-40d4179537d2",
   "metadata": {},
   "outputs": [],
   "source": []
  },
  {
   "cell_type": "code",
   "execution_count": null,
   "id": "ede86e5d-daf2-4008-8b8c-b009496e8164",
   "metadata": {},
   "outputs": [],
   "source": []
  },
  {
   "cell_type": "code",
   "execution_count": null,
   "id": "c6ad3944-c9c5-4dc2-9fd6-f75bc385f137",
   "metadata": {},
   "outputs": [],
   "source": []
  },
  {
   "cell_type": "markdown",
   "id": "2c0b7f61-576b-49ae-a795-4554f006ce69",
   "metadata": {},
   "source": [
    "# Close Snowflake Session"
   ]
  },
  {
   "cell_type": "code",
   "execution_count": 24,
   "id": "9c9b86ce-d6ad-437b-b552-29fbc0bb8955",
   "metadata": {},
   "outputs": [],
   "source": [
    "# always close a session\n",
    "session.close()"
   ]
  },
  {
   "cell_type": "code",
   "execution_count": null,
   "id": "5b6ac6e6-2ab7-4a7d-8710-3085e8db44b6",
   "metadata": {},
   "outputs": [],
   "source": []
  }
 ],
 "metadata": {
  "kernelspec": {
   "display_name": "Python 3 (ipykernel)",
   "language": "python",
   "name": "python3"
  },
  "language_info": {
   "codemirror_mode": {
    "name": "ipython",
    "version": 3
   },
   "file_extension": ".py",
   "mimetype": "text/x-python",
   "name": "python",
   "nbconvert_exporter": "python",
   "pygments_lexer": "ipython3",
   "version": "3.11.13"
  }
 },
 "nbformat": 4,
 "nbformat_minor": 5
}
