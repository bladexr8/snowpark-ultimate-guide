{
 "cells": [
  {
   "cell_type": "markdown",
   "id": "e26fee1a-63eb-4040-a50b-9ff7b8405367",
   "metadata": {},
   "source": [
    "# Connect to Snowflake"
   ]
  },
  {
   "cell_type": "code",
   "execution_count": 2,
   "id": "f4e10110-5343-4b46-8ba4-eed5e107dbb0",
   "metadata": {},
   "outputs": [
    {
     "data": {
      "text/plain": [
       "True"
      ]
     },
     "execution_count": 2,
     "metadata": {},
     "output_type": "execute_result"
    }
   ],
   "source": [
    "from dotenv import load_dotenv\n",
    "load_dotenv()     # loads keys into os.environ so the rest of your code sees them"
   ]
  },
  {
   "cell_type": "code",
   "execution_count": 3,
   "id": "f5571488-204d-467a-afa0-5f08b5693ff0",
   "metadata": {},
   "outputs": [],
   "source": [
    "# authenticate into Snowflake\n",
    "from snowflake.snowpark import Session\n",
    "import os\n",
    "connection_parameters = {\n",
    "    \"account\": os.getenv('SNOWFLAKE_ACCOUNT'),\n",
    "    \"user\": os.getenv('SNOWFLAKE_USER'),\n",
    "    \"password\": os.getenv('SNOWFLAKE_PASSWORD'),\n",
    "    \"role\": os.getenv('SNOWFLAKE_ROLE'),\n",
    "    \"warehouse\": os.getenv('SNOWFLAKE_WAREHOUSE'),\n",
    "    \"database\": os.getenv('SNOWFLAKE_DATABASE'),\n",
    "    \"schema\": os.getenv('SNOWFLAKE_SCHEMA')\n",
    "}\n",
    "session = Session.builder.configs(connection_parameters).create()"
   ]
  },
  {
   "cell_type": "code",
   "execution_count": 4,
   "id": "8ca810f3-a98b-46cb-b954-b648478036b8",
   "metadata": {},
   "outputs": [
    {
     "name": "stdout",
     "output_type": "stream",
     "text": [
      "Session Current Account: \"WEVIRIP-NA38028\"\n"
     ]
    }
   ],
   "source": [
    "# check connection has been successful\n",
    "print(\"Session Current Account:\", session.get_current_account())"
   ]
  },
  {
   "cell_type": "markdown",
   "id": "0df313bf-7b5e-4ebc-a551-832cd1f49bf1",
   "metadata": {},
   "source": [
    "# Data Grouping"
   ]
  },
  {
   "cell_type": "code",
   "execution_count": 5,
   "id": "d0f16f72-522a-470f-b98f-3512f93fc670",
   "metadata": {},
   "outputs": [],
   "source": [
    "# load tables into session\n",
    "marketing_final = session.table('MARKETING_FINAL')\n"
   ]
  },
  {
   "cell_type": "code",
   "execution_count": 5,
   "id": "30415357-0d24-46ab-abf8-a711e37a67d6",
   "metadata": {},
   "outputs": [
    {
     "name": "stdout",
     "output_type": "stream",
     "text": [
      "-------------------------------\n",
      "|\"EDUCATION\"  |\"AVG(INCOME)\"  |\n",
      "-------------------------------\n",
      "|Graduation   |52720.373656   |\n",
      "|Master       |52917.534247   |\n",
      "|PhD          |56145.313929   |\n",
      "|Basic        |20306.259259   |\n",
      "|2n Cycle     |47633.190000   |\n",
      "-------------------------------\n",
      "\n"
     ]
    }
   ],
   "source": [
    "# perform an aggregation\n",
    "marketing_final.group_by('EDUCATION').mean('INCOME').show()"
   ]
  },
  {
   "cell_type": "code",
   "execution_count": 7,
   "id": "af4e8c73-5fa9-4fb6-a333-12c3bd68d957",
   "metadata": {},
   "outputs": [
    {
     "name": "stdout",
     "output_type": "stream",
     "text": [
      "------------------------------\n",
      "|\"EDUCATION\"  |\"AVG_INCOME\"  |\n",
      "------------------------------\n",
      "|Graduation   |52720.373656  |\n",
      "|Master       |52917.534247  |\n",
      "|PhD          |56145.313929  |\n",
      "|Basic        |20306.259259  |\n",
      "|2n Cycle     |47633.190000  |\n",
      "------------------------------\n",
      "\n"
     ]
    }
   ],
   "source": [
    "# aggregate and alias a column\n",
    "from snowflake.snowpark.functions import avg\n",
    "marketing_final.group_by('EDUCATION').agg(avg('INCOME').alias('Avg_Income')).show()"
   ]
  },
  {
   "cell_type": "code",
   "execution_count": 8,
   "id": "f36c92f9-b802-4d5c-987a-3fed28a77517",
   "metadata": {},
   "outputs": [
    {
     "name": "stdout",
     "output_type": "stream",
     "text": [
      "---------------------------------------\n",
      "|\"MARITAL_STATUS\"  |\"SUM(Z_REVENUE)\"  |\n",
      "---------------------------------------\n",
      "|Married           |9504              |\n",
      "|Single            |5280              |\n",
      "|Divorced          |2552              |\n",
      "|Widow             |847               |\n",
      "|Together          |6380              |\n",
      "|YOLO              |22                |\n",
      "|Absurd            |22                |\n",
      "|Alone             |33                |\n",
      "---------------------------------------\n",
      "\n"
     ]
    }
   ],
   "source": [
    "# use the function() method to pass the respective operation from Snowpark functions\n",
    "from snowflake.snowpark.functions import sum\n",
    "marketing_final.group_by('MARITAL_STATUS').function('sum')('Z_REVENUE').show()"
   ]
  },
  {
   "cell_type": "code",
   "execution_count": 9,
   "id": "490d748d-e5c8-4b79-aa38-d04b19dea343",
   "metadata": {},
   "outputs": [
    {
     "name": "stdout",
     "output_type": "stream",
     "text": [
      "------------------------------------\n",
      "|\"MARITAL_STATUS\"  |\"MAX(INCOME)\"  |\n",
      "------------------------------------\n",
      "|Together          |666666         |\n",
      "|Married           |160803         |\n",
      "|YOLO              |48432          |\n",
      "|Absurd            |79244          |\n",
      "|Divorced          |153924         |\n",
      "|Alone             |61331          |\n",
      "|Single            |113734         |\n",
      "|Widow             |85620          |\n",
      "------------------------------------\n",
      "\n"
     ]
    }
   ],
   "source": [
    "# calculate the maximum income by marital status\n",
    "from snowflake.snowpark.functions import max\n",
    "marketing_final.group_by('MARITAL_STATUS').agg(max('INCOME')).show()"
   ]
  },
  {
   "cell_type": "code",
   "execution_count": 11,
   "id": "d02a3bb2-1796-4da8-bd99-7d4fefa3b487",
   "metadata": {},
   "outputs": [
    {
     "name": "stdout",
     "output_type": "stream",
     "text": [
      "----------------------------------------------------\n",
      "|\"EDUCATION\"  |\"COUNT(LITERAL())\"  |\"MAX(INCOME)\"  |\n",
      "----------------------------------------------------\n",
      "|Graduation   |1127                |666666         |\n",
      "|Master       |370                 |157733         |\n",
      "|PhD          |486                 |162397         |\n",
      "|Basic        |54                  |34445          |\n",
      "|2n Cycle     |203                 |96547          |\n",
      "----------------------------------------------------\n",
      "\n"
     ]
    }
   ],
   "source": [
    "# find the count of different types of graduates and their maximum income\n",
    "from snowflake.snowpark.functions import col, count\n",
    "marketing_final.group_by('EDUCATION').agg((col('*'), \"count\"), max('INCOME')).show()"
   ]
  },
  {
   "cell_type": "code",
   "execution_count": 12,
   "id": "0f13bdd1-361d-405b-ad23-1d7f62da335a",
   "metadata": {},
   "outputs": [
    {
     "name": "stdout",
     "output_type": "stream",
     "text": [
      "------------------------------------------------------------------\n",
      "|\"EDUCATION\"  |\"MARITAL_STATUS\"  |\"AVG_INCOME\"  |\"SUM_PURCHASE\"  |\n",
      "------------------------------------------------------------------\n",
      "|PhD          |Single            |53314.614583  |568             |\n",
      "|2n Cycle     |Divorced          |49395.130435  |138             |\n",
      "|PhD          |Together          |56041.422414  |698             |\n",
      "|Graduation   |Divorced          |54526.042017  |697             |\n",
      "|PhD          |YOLO              |48432.000000  |12              |\n",
      "|Basic        |Widow             |22123.000000  |3               |\n",
      "|Master       |Married           |53286.028986  |815             |\n",
      "|PhD          |Married           |58138.031579  |1191            |\n",
      "|2n Cycle     |Married           |46201.100000  |440             |\n",
      "|Master       |Divorced          |50331.945946  |203             |\n",
      "------------------------------------------------------------------\n",
      "\n"
     ]
    }
   ],
   "source": [
    "# find out how people with different educations and marital statuses spend\n",
    "marketing_final.group_by(['EDUCATION', 'MARITAL_STATUS']).agg(avg('INCOME').alias('Avg_Income'), sum('NUMSTOREPURCHASES').alias('Sum_Purchase')).show()"
   ]
  },
  {
   "cell_type": "code",
   "execution_count": 13,
   "id": "7884961e-f5c3-4d81-a721-8b658998b2c3",
   "metadata": {},
   "outputs": [
    {
     "name": "stdout",
     "output_type": "stream",
     "text": [
      "------------------------------------------------------------------\n",
      "|\"EDUCATION\"  |\"MARITAL_STATUS\"  |\"AVG_INCOME\"  |\"SUM_PURCHASE\"  |\n",
      "------------------------------------------------------------------\n",
      "|2n Cycle     |Widow             |51392.200000  |37              |\n",
      "|2n Cycle     |Divorced          |49395.130435  |138             |\n",
      "|2n Cycle     |Single            |53673.944444  |194             |\n",
      "|2n Cycle     |Together          |44736.410714  |309             |\n",
      "|2n Cycle     |Married           |46201.100000  |440             |\n",
      "|Basic        |Divorced          |9548.000000   |3               |\n",
      "|Basic        |Widow             |22123.000000  |3               |\n",
      "|Basic        |Together          |21240.071429  |34              |\n",
      "|Basic        |Single            |18238.666667  |49              |\n",
      "|Basic        |Married           |21960.500000  |65              |\n",
      "------------------------------------------------------------------\n",
      "\n"
     ]
    }
   ],
   "source": [
    "# determine the relationship between EDUCATION, MARITAL_STATUS, and SUM_PURCHASE and sort results\n",
    "aggregate_result = marketing_final.group_by(['EDUCATION', 'MARITAL_STATUS']).agg(avg('INCOME').alias('Avg_Income'), sum('NUMSTOREPURCHASES').alias('Sum_Purchase'))\n",
    "aggregate_result.sort(col('EDUCATION').asc(), col('Sum_Purchase').asc()).show()"
   ]
  },
  {
   "cell_type": "markdown",
   "id": "3f672990-3eb0-4cd2-a533-b460484a0956",
   "metadata": {},
   "source": [
    "# Data Analysis"
   ]
  },
  {
   "cell_type": "code",
   "execution_count": 6,
   "id": "d2689f15-1a14-4e24-862f-01dae937fcb6",
   "metadata": {},
   "outputs": [
    {
     "name": "stdout",
     "output_type": "stream",
     "text": [
      "--------------------------------------------------------------------------------------------------------------------------------------------------------------------------------------------------------------------------------------------------------------------------------------------------------------------------------------------------------------------------------------------------------------------------------------------------------------------------\n",
      "|\"SUMMARY\"  |\"YEAR_BIRTH\"        |\"EDUCATION\"  |\"MARITAL_STATUS\"  |\"INCOME\"            |\"KIDHOME\"           |\"TEENHOME\"          |\"RECENCY\"           |\"MNTWINES\"         |\"MNTFRUITS\"       |\"MNTMEATPRODUCTS\"   |\"MNTFISHPRODUCTS\"  |\"MNTSWEETPRODUCTS\"  |\"MNTGOLDPRODS\"     |\"NUMDEALSPURCHASES\"  |\"NUMWEBPURCHASES\"   |\"NUMCATALOGPURCHASES\"  |\"NUMSTOREPURCHASES\"  |\"NUMWEBVISITSMONTH\"  |\"ID\"                |\"COMPLAIN\"           |\"Z_COSTCONTACT\"  |\"Z_REVENUE\"  |\n",
      "--------------------------------------------------------------------------------------------------------------------------------------------------------------------------------------------------------------------------------------------------------------------------------------------------------------------------------------------------------------------------------------------------------------------------------------------------------------------------\n",
      "|max        |1996.0              |PhD          |YOLO              |666666.0            |2.0                 |2.0                 |99.0                |1493.0             |199.0             |1725.0              |259.0              |263.0               |362.0              |15.0                 |27.0                |28.0                   |13.0                 |20.0                 |11191.0             |1.0                  |3.0              |11.0         |\n",
      "|min        |1893.0              |2n Cycle     |Absurd            |1730.0              |0.0                 |0.0                 |0.0                 |0.0                |0.0               |0.0                 |0.0                |0.0                 |0.0                |0.0                  |0.0                 |0.0                    |0.0                  |0.0                  |0.0                 |0.0                  |3.0              |11.0         |\n",
      "|stddev     |11.984069467422158  |NULL         |NULL              |25173.076660901403  |0.5383985512610523  |0.5445383365751212  |28.962452813945163  |336.5973926057657  |39.7734337592318  |225.71537251148845  |54.62897940653843  |41.28049848293986   |52.16743891547677  |1.9322375630341109   |2.7787140910860186  |2.9231005798637857     |3.2509581664487777   |2.426645009060864    |3246.6621975642925  |0.09638983348880732  |0.0              |0.0          |\n",
      "|count      |2240.0              |2240         |2240              |2216.0              |2240.0              |2240.0              |2240.0              |2240.0             |2240.0            |2240.0              |2240.0             |2240.0              |2240.0             |2240.0               |2240.0              |2240.0                 |2240.0               |2240.0               |2240.0              |2240.0               |2240.0           |2240.0       |\n",
      "|mean       |1968.805804         |NULL         |NULL              |52247.251354        |0.444196            |0.50625             |49.109375           |303.935714         |26.302232         |166.95              |37.525446          |27.062946           |44.021875          |2.325                |4.084821            |2.662054               |5.790179             |5.316518             |5592.159821         |0.009375             |3.0              |11.0         |\n",
      "--------------------------------------------------------------------------------------------------------------------------------------------------------------------------------------------------------------------------------------------------------------------------------------------------------------------------------------------------------------------------------------------------------------------------------------------------------------------------\n",
      "\n"
     ]
    }
   ],
   "source": [
    "# The describe() function in pandas is a valuable tool that helps us gain insights into the statistical properties of our numerical data.\n",
    "marketing_final.describe().show()"
   ]
  },
  {
   "cell_type": "code",
   "execution_count": 7,
   "id": "75002669-33c8-43d3-ab7e-4e44b79be498",
   "metadata": {},
   "outputs": [
    {
     "data": {
      "text/plain": [
       "2240"
      ]
     },
     "execution_count": 7,
     "metadata": {},
     "output_type": "execute_result"
    }
   ],
   "source": [
    "# select distinct records\n",
    "marketing_final.distinct().count()"
   ]
  },
  {
   "cell_type": "code",
   "execution_count": 8,
   "id": "d74baf6d-61b1-4572-926c-2e981e9e4394",
   "metadata": {},
   "outputs": [
    {
     "name": "stdout",
     "output_type": "stream",
     "text": [
      "----------------------------------\n",
      "|\"EDUCATION\"  |\"MARITAL_STATUS\"  |\n",
      "----------------------------------\n",
      "|2n Cycle     |Married           |\n",
      "|Graduation   |Married           |\n",
      "|Graduation   |Together          |\n",
      "|Graduation   |Divorced          |\n",
      "|PhD          |Single            |\n",
      "|PhD          |Alone             |\n",
      "|PhD          |Together          |\n",
      "|Master       |Married           |\n",
      "|PhD          |Married           |\n",
      "|Master       |Together          |\n",
      "----------------------------------\n",
      "\n"
     ]
    }
   ],
   "source": [
    "# drop_duplicates() removes duplicate rows from a Snowpark DataFrame\n",
    "marketing_final.select(['Education','Marital_Status']).drop_duplicates().show()"
   ]
  },
  {
   "cell_type": "code",
   "execution_count": 9,
   "id": "1b71966a-e1b9-465d-8921-b563bf177432",
   "metadata": {},
   "outputs": [
    {
     "name": "stdout",
     "output_type": "stream",
     "text": [
      "------------------------------------------------------------------------------------------------------------------------\n",
      "|\"EDUCATION\"  |\"'Together'\"  |\"'Married'\"  |\"'YOLO'\"  |\"'Absurd'\"  |\"'Divorced'\"  |\"'Alone'\"  |\"'Single'\"  |\"'Widow'\"  |\n",
      "------------------------------------------------------------------------------------------------------------------------\n",
      "|Graduation   |286           |433          |0         |1           |119           |1          |252         |35         |\n",
      "|Master       |106           |138          |0         |1           |37            |1          |75          |12         |\n",
      "|PhD          |117           |192          |2         |0           |52            |1          |98          |24         |\n",
      "|2n Cycle     |57            |81           |0         |0           |23            |0          |37          |5          |\n",
      "|Basic        |14            |20           |0         |0           |1             |0          |18          |1          |\n",
      "------------------------------------------------------------------------------------------------------------------------\n",
      "\n"
     ]
    }
   ],
   "source": [
    "# crosstab analysis\n",
    "# Once we have identified the unique combinations of the EDUCATION and MARITAL_STATUS columns in our dataset, \n",
    "# we might still be curious about how frequently each combination occurs.\n",
    "marketing_final.stat.crosstab(col1='Education',col2='Marital_Status').show()"
   ]
  },
  {
   "cell_type": "code",
   "execution_count": 10,
   "id": "cf7b5fed-ac90-43f8-b848-40d4179537d2",
   "metadata": {},
   "outputs": [
    {
     "name": "stdout",
     "output_type": "stream",
     "text": [
      "----------------------------------------------------------------------------------------\n",
      "|\"MARITAL_STATUS\"  |\"'Graduation'\"  |\"'PhD'\"   |\"'Master'\"  |\"'Basic'\"  |\"'2n Cycle'\"  |\n",
      "----------------------------------------------------------------------------------------\n",
      "|YOLO              |NULL            |96864     |NULL        |NULL       |NULL          |\n",
      "|Married           |21793311        |11046226  |7353472     |439210     |3696088       |\n",
      "|Together          |15891167        |6500805   |5315119     |297361     |2505239       |\n",
      "|Single            |12625257        |5118203   |4014792     |328296     |1932262       |\n",
      "|Divorced          |6488599         |2761024   |1862282     |9548       |1136088       |\n",
      "|Widow             |1924183         |1446914   |642417      |22123      |256961        |\n",
      "|Alone             |34176           |35860     |61331       |NULL       |NULL          |\n",
      "|Absurd            |79244           |NULL      |65487       |NULL       |NULL          |\n",
      "----------------------------------------------------------------------------------------\n",
      "\n"
     ]
    }
   ],
   "source": [
    "# pivot analysis\n",
    "market_subset = marketing_final.select('EDUCATION','MARITAL_STATUS','INCOME')\n",
    "market_pivot = market_subset.pivot(\n",
    "    'EDUCATION',\n",
    "    ['Graduation','PhD','Master','Basic','2n Cycle']\n",
    ").sum('INCOME')\n",
    "market_pivot.show()"
   ]
  },
  {
   "cell_type": "code",
   "execution_count": null,
   "id": "c6ad3944-c9c5-4dc2-9fd6-f75bc385f137",
   "metadata": {},
   "outputs": [],
   "source": []
  },
  {
   "cell_type": "markdown",
   "id": "2c0b7f61-576b-49ae-a795-4554f006ce69",
   "metadata": {},
   "source": [
    "# Close Snowflake Session"
   ]
  },
  {
   "cell_type": "code",
   "execution_count": 11,
   "id": "9c9b86ce-d6ad-437b-b552-29fbc0bb8955",
   "metadata": {},
   "outputs": [],
   "source": [
    "# always close a session\n",
    "session.close()"
   ]
  },
  {
   "cell_type": "code",
   "execution_count": null,
   "id": "5b6ac6e6-2ab7-4a7d-8710-3085e8db44b6",
   "metadata": {},
   "outputs": [],
   "source": []
  }
 ],
 "metadata": {
  "kernelspec": {
   "display_name": "Python 3 (ipykernel)",
   "language": "python",
   "name": "python3"
  },
  "language_info": {
   "codemirror_mode": {
    "name": "ipython",
    "version": 3
   },
   "file_extension": ".py",
   "mimetype": "text/x-python",
   "name": "python",
   "nbconvert_exporter": "python",
   "pygments_lexer": "ipython3",
   "version": "3.11.13"
  }
 },
 "nbformat": 4,
 "nbformat_minor": 5
}
