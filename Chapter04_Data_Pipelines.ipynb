{
 "cells": [
  {
   "cell_type": "markdown",
   "id": "e26fee1a-63eb-4040-a50b-9ff7b8405367",
   "metadata": {},
   "source": [
    "# Connect to Snowflake"
   ]
  },
  {
   "cell_type": "code",
   "execution_count": 17,
   "id": "f4e10110-5343-4b46-8ba4-eed5e107dbb0",
   "metadata": {},
   "outputs": [
    {
     "data": {
      "text/plain": [
       "True"
      ]
     },
     "execution_count": 17,
     "metadata": {},
     "output_type": "execute_result"
    }
   ],
   "source": [
    "from dotenv import load_dotenv\n",
    "load_dotenv()     # loads keys into os.environ so the rest of your code sees them"
   ]
  },
  {
   "cell_type": "code",
   "execution_count": 18,
   "id": "f5571488-204d-467a-afa0-5f08b5693ff0",
   "metadata": {},
   "outputs": [],
   "source": [
    "# authenticate into Snowflake\n",
    "from snowflake.snowpark import Session\n",
    "import os\n",
    "connection_parameters = {\n",
    "    \"account\": os.getenv('SNOWFLAKE_ACCOUNT'),\n",
    "    \"user\": os.getenv('SNOWFLAKE_USER'),\n",
    "    \"password\": os.getenv('SNOWFLAKE_PASSWORD'),\n",
    "    \"role\": os.getenv('SNOWFLAKE_ROLE'),\n",
    "    \"warehouse\": os.getenv('SNOWFLAKE_WAREHOUSE'),\n",
    "    \"database\": os.getenv('SNOWFLAKE_DATABASE'),\n",
    "    \"schema\": os.getenv('SNOWFLAKE_SCHEMA')\n",
    "}\n",
    "session = Session.builder.configs(connection_parameters).create()"
   ]
  },
  {
   "cell_type": "code",
   "execution_count": 19,
   "id": "8ca810f3-a98b-46cb-b954-b648478036b8",
   "metadata": {},
   "outputs": [
    {
     "name": "stdout",
     "output_type": "stream",
     "text": [
      "Session Current Account: \"WEVIRIP-NA38028\"\n"
     ]
    }
   ],
   "source": [
    "# check connection has been successful\n",
    "print(\"Session Current Account:\", session.get_current_account())"
   ]
  },
  {
   "cell_type": "code",
   "execution_count": 20,
   "id": "316b8368-d43d-4be0-8fa2-4b32392cb330",
   "metadata": {},
   "outputs": [],
   "source": [
    "session.use_database(\"SNOWPARK_DEFINITIVE_GUIDE\"),\n",
    "session.use_schema(\"MY_SCHEMA\")\n",
    "\n",
    "purchase_history = session.table(\"PURCHASE_HISTORY\")\n",
    "campaign_info = session.table(\"CAMPAIGN_INFO\")\n",
    "complain_info = session.table(\"COMPLAINT_INFO\")\n",
    "marketing_additional = session.table(\"MARKETING_ADDITIONAL\")"
   ]
  },
  {
   "cell_type": "markdown",
   "id": "0df313bf-7b5e-4ebc-a551-832cd1f49bf1",
   "metadata": {},
   "source": [
    "# Data Engineering Pipelines"
   ]
  },
  {
   "cell_type": "markdown",
   "id": "c9895ca7-a768-440a-8b28-a13d7df37bca",
   "metadata": {},
   "source": [
    "## Step 1 - Joining Purchase History Table with Campaign Info"
   ]
  },
  {
   "cell_type": "code",
   "execution_count": 21,
   "id": "c6ad3944-c9c5-4dc2-9fd6-f75bc385f137",
   "metadata": {},
   "outputs": [],
   "source": [
    "# join the purchase history with the campaign information\n",
    "def combine_campaign_table(purchase_history, campaign_info):\n",
    "    purchase_campaign = purchase_history.join(\n",
    "        campaign_info, \\\n",
    "        purchase_history.ID == campaign_info.ID, \\\n",
    "        lsuffix='_left', rsuffix='_right'\n",
    "    )\n",
    "    purchase_campaign = purchase_campaign.drop('ID_RIGHT')\n",
    "    return purchase_campaign"
   ]
  },
  {
   "cell_type": "markdown",
   "id": "c353873b-d9fd-418d-b589-a6c84a1d1c9d",
   "metadata": {},
   "source": [
    "## Step 2 - Joining Purchase Campaign with Complain Info Table"
   ]
  },
  {
   "cell_type": "code",
   "execution_count": 22,
   "id": "be14bf7e-3313-4d7c-9cdc-4131675415db",
   "metadata": {},
   "outputs": [],
   "source": [
    "# join the purchase campaign with the complaint information \n",
    "# using the same ID column and then create a purchase_campaign_complain DataFrame\n",
    "def combine_complain_table(purchase_campaign, complain_info):\n",
    "    purchase_campaign_complain = purchase_campaign.join(\n",
    "        complain_info, \\\n",
    "        purchase_campaign['ID_LEFT'] == complain_info.ID\n",
    "    )\n",
    "    purchase_campaign_complain = purchase_campaign_complain.drop('ID_LEFT')\n",
    "    return purchase_campaign_complain"
   ]
  },
  {
   "cell_type": "markdown",
   "id": "f3e875aa-ad75-47e4-8183-936554c98170",
   "metadata": {},
   "source": [
    "## Step 3 - Union Additional Marketing Table with Purchase Campaign Complain Data"
   ]
  },
  {
   "cell_type": "code",
   "execution_count": 23,
   "id": "1a30a4a1-f671-44dc-898b-72c7817f2cb9",
   "metadata": {},
   "outputs": [],
   "source": [
    "# marketing table is created by the union of the data between the purchase complaint and the marketing table\n",
    "def union_marketing_additional_table(purchase_campaign_complain,marketing_additional):\n",
    "    final_marketing_table = purchase_campaign_complain.union_by_name(marketing_additional)\n",
    "    return final_marketing_table"
   ]
  },
  {
   "cell_type": "markdown",
   "id": "001ef425-b76d-4bda-89e0-dcd1e78e01dc",
   "metadata": {},
   "source": [
    "## Stored Procedure - Data Preparation"
   ]
  },
  {
   "cell_type": "code",
   "execution_count": 24,
   "id": "f6709608-871b-40a9-a724-077d9b385c64",
   "metadata": {},
   "outputs": [
    {
     "ename": "SnowparkSessionException",
     "evalue": "(1409): More than one active session is detected. When you call function 'udf' or use decorator '@udf', you must specify the 'session' parameter if you created multiple sessions.Alternatively, you can use 'session.udf.register' to register UDFs",
     "output_type": "error",
     "traceback": [
      "\u001b[31m---------------------------------------------------------------------------\u001b[39m",
      "\u001b[31mSnowparkSessionException\u001b[39m                  Traceback (most recent call last)",
      "\u001b[36mCell\u001b[39m\u001b[36m \u001b[39m\u001b[32mIn[24]\u001b[39m\u001b[32m, line 26\u001b[39m\n\u001b[32m     24\u001b[39m \u001b[38;5;66;03m# Create an instance of StoredProcedure using the sproc() function\u001b[39;00m\n\u001b[32m     25\u001b[39m \u001b[38;5;28;01mfrom\u001b[39;00m\u001b[38;5;250m \u001b[39m\u001b[34;01msnowflake\u001b[39;00m\u001b[34;01m.\u001b[39;00m\u001b[34;01msnowpark\u001b[39;00m\u001b[34;01m.\u001b[39;00m\u001b[34;01mtypes\u001b[39;00m\u001b[38;5;250m \u001b[39m\u001b[38;5;28;01mimport\u001b[39;00m IntegerType, StringType\n\u001b[32m---> \u001b[39m\u001b[32m26\u001b[39m data_prep_sproc = sproc(\n\u001b[32m     27\u001b[39m                             func=data_prep,\\\n\u001b[32m     28\u001b[39m                             replace=\u001b[38;5;28;01mTrue\u001b[39;00m,\\\n\u001b[32m     29\u001b[39m                             return_type = StringType(),\\\n\u001b[32m     30\u001b[39m                             stage_location=\u001b[33m'\u001b[39m\u001b[33m@my_stage\u001b[39m\u001b[33m'\u001b[39m,\\\n\u001b[32m     31\u001b[39m                             packages=[\u001b[33m'\u001b[39m\u001b[33msnowflake-snowpark-python\u001b[39m\u001b[33m'\u001b[39m]\n\u001b[32m     32\u001b[39m                         )\n",
      "\u001b[36mFile \u001b[39m\u001b[32m~/opt/anaconda3/envs/snowpark_3.11_env/lib/python3.11/site-packages/snowflake/snowpark/_internal/utils.py:1120\u001b[39m, in \u001b[36mpublicapi.<locals>.call_wrapper\u001b[39m\u001b[34m(*args, **kwargs)\u001b[39m\n\u001b[32m   1116\u001b[39m kwargs[\u001b[33m\"\u001b[39m\u001b[33m_emit_ast\u001b[39m\u001b[33m\"\u001b[39m] = is_ast_enabled()\n\u001b[32m   1118\u001b[39m \u001b[38;5;66;03m# TODO: Could modify internal docstring to display that users should not modify the _emit_ast parameter.\u001b[39;00m\n\u001b[32m-> \u001b[39m\u001b[32m1120\u001b[39m \u001b[38;5;28;01mreturn\u001b[39;00m func(*args, **kwargs)\n",
      "\u001b[36mFile \u001b[39m\u001b[32m~/opt/anaconda3/envs/snowpark_3.11_env/lib/python3.11/site-packages/snowflake/snowpark/functions.py:10686\u001b[39m, in \u001b[36msproc\u001b[39m\u001b[34m(func, return_type, input_types, name, is_permanent, stage_location, imports, packages, replace, if_not_exists, session, parallel, statement_params, execute_as, strict, source_code_display, external_access_integrations, secrets, comment, _emit_ast, artifact_repository, resource_constraint, **kwargs)\u001b[39m\n\u001b[32m  10683\u001b[39m \u001b[38;5;66;03m# Initial check to make sure no unexpected args are passed in\u001b[39;00m\n\u001b[32m  10684\u001b[39m check_decorator_args(**kwargs)\n\u001b[32m> \u001b[39m\u001b[32m10686\u001b[39m session = snowflake.snowpark.session._get_sandbox_conditional_active_session(\n\u001b[32m  10687\u001b[39m     session\n\u001b[32m  10688\u001b[39m )\n\u001b[32m  10689\u001b[39m \u001b[38;5;28;01mif\u001b[39;00m session \u001b[38;5;129;01mis\u001b[39;00m \u001b[38;5;28;01mNone\u001b[39;00m:\n\u001b[32m  10690\u001b[39m     sproc_registration_method = StoredProcedureRegistration(\n\u001b[32m  10691\u001b[39m         session=session\n\u001b[32m  10692\u001b[39m     ).register\n",
      "\u001b[36mFile \u001b[39m\u001b[32m~/opt/anaconda3/envs/snowpark_3.11_env/lib/python3.11/site-packages/snowflake/snowpark/session.py:336\u001b[39m, in \u001b[36m_get_sandbox_conditional_active_session\u001b[39m\u001b[34m(session)\u001b[39m\n\u001b[32m    334\u001b[39m     session = \u001b[38;5;28;01mNone\u001b[39;00m\n\u001b[32m    335\u001b[39m \u001b[38;5;28;01melse\u001b[39;00m:\n\u001b[32m--> \u001b[39m\u001b[32m336\u001b[39m     session = session \u001b[38;5;129;01mor\u001b[39;00m _get_active_session()\n\u001b[32m    337\u001b[39m \u001b[38;5;28;01mreturn\u001b[39;00m session\n",
      "\u001b[36mFile \u001b[39m\u001b[32m~/opt/anaconda3/envs/snowpark_3.11_env/lib/python3.11/site-packages/snowflake/snowpark/session.py:311\u001b[39m, in \u001b[36m_get_active_session\u001b[39m\u001b[34m()\u001b[39m\n\u001b[32m    309\u001b[39m     \u001b[38;5;28;01mreturn\u001b[39;00m \u001b[38;5;28mnext\u001b[39m(\u001b[38;5;28miter\u001b[39m(_active_sessions))\n\u001b[32m    310\u001b[39m \u001b[38;5;28;01melif\u001b[39;00m \u001b[38;5;28mlen\u001b[39m(_active_sessions) > \u001b[32m1\u001b[39m:\n\u001b[32m--> \u001b[39m\u001b[32m311\u001b[39m     \u001b[38;5;28;01mraise\u001b[39;00m SnowparkClientExceptionMessages.MORE_THAN_ONE_ACTIVE_SESSIONS()\n\u001b[32m    312\u001b[39m \u001b[38;5;28;01melse\u001b[39;00m:\n\u001b[32m    313\u001b[39m     \u001b[38;5;28;01mraise\u001b[39;00m SnowparkClientExceptionMessages.SERVER_NO_DEFAULT_SESSION()\n",
      "\u001b[31mSnowparkSessionException\u001b[39m: (1409): More than one active session is detected. When you call function 'udf' or use decorator '@udf', you must specify the 'session' parameter if you created multiple sessions.Alternatively, you can use 'session.udf.register' to register UDFs"
     ]
    }
   ],
   "source": [
    "from snowflake.snowpark.functions import sproc\n",
    "import snowflake\n",
    "\n",
    "def data_prep(session: Session) -> str:\n",
    "    #### Loading Required Tables\n",
    "    purchase_history = session.table(\"PURCHASE_HISTORY\")\n",
    "    campaign_info = session.table(\"CAMPAIGN_INFO\")\n",
    "    complain_info = session.table(\"COMPLAINT_INFO\")\n",
    "    marketing_additional = session.table(\"MARKETING_ADDITIONAL\")\n",
    "\n",
    "    #### Calling Step 1\n",
    "    purchase_campaign = combine_campaign_table(purchase_history, campaign_info)\n",
    "\n",
    "    #### Calling Step 2\n",
    "    purchase_campaign_complain = combine_complain_table(purchase_campaign, complain_info)\n",
    "\n",
    "    #### Calling Step 3\n",
    "    final_marketing_data = union_marketing_additional_table(purchase_campaign_complain, marketing_additional)\n",
    "\n",
    "    #### Writing Combined Data to New Table\n",
    "    final_marketing_data.write.save_as_table('FINAL_MARKETING_DATA')\n",
    "    return 'LOADED FINAL MARKETING DATA TABLE'\n",
    "\n",
    "# Create an instance of StoredProcedure using the sproc() function\n",
    "from snowflake.snowpark.types import IntegerType, StringType\n",
    "data_prep_sproc = sproc(\n",
    "                            func=data_prep,\\\n",
    "                            replace=True,\\\n",
    "                            return_type = StringType(),\\\n",
    "                            stage_location='@my_stage',\\\n",
    "                            packages=['snowflake-snowpark-python']\n",
    "                        )"
   ]
  },
  {
   "cell_type": "code",
   "execution_count": null,
   "id": "ad5164c6-4dcc-4a46-b92f-3db5dae6b5f9",
   "metadata": {},
   "outputs": [],
   "source": []
  },
  {
   "cell_type": "code",
   "execution_count": null,
   "id": "47cadd3e-89c8-471e-8926-a6e2e7f1cf90",
   "metadata": {},
   "outputs": [],
   "source": []
  },
  {
   "cell_type": "code",
   "execution_count": null,
   "id": "504b6a21-bf9e-4a4d-9fed-c3effdc5f5bc",
   "metadata": {},
   "outputs": [],
   "source": []
  },
  {
   "cell_type": "code",
   "execution_count": null,
   "id": "3ad1051d-73c8-4f4d-b548-f1590679afb5",
   "metadata": {},
   "outputs": [],
   "source": []
  },
  {
   "cell_type": "code",
   "execution_count": null,
   "id": "54cae707-2938-4637-a61d-b97098790834",
   "metadata": {},
   "outputs": [],
   "source": []
  },
  {
   "cell_type": "code",
   "execution_count": null,
   "id": "5b965108-27fd-4221-b639-0ed9b1f7989c",
   "metadata": {},
   "outputs": [],
   "source": []
  },
  {
   "cell_type": "code",
   "execution_count": null,
   "id": "e26da320-fc54-4b1e-a176-f720a4dea695",
   "metadata": {},
   "outputs": [],
   "source": []
  },
  {
   "cell_type": "code",
   "execution_count": null,
   "id": "9e258a22-df42-45f7-989d-9292e099ab56",
   "metadata": {},
   "outputs": [],
   "source": []
  },
  {
   "cell_type": "markdown",
   "id": "2c0b7f61-576b-49ae-a795-4554f006ce69",
   "metadata": {},
   "source": [
    "# Close Snowflake Session"
   ]
  },
  {
   "cell_type": "code",
   "execution_count": null,
   "id": "9c9b86ce-d6ad-437b-b552-29fbc0bb8955",
   "metadata": {},
   "outputs": [],
   "source": [
    "# always close a session\n",
    "session.close()"
   ]
  },
  {
   "cell_type": "code",
   "execution_count": null,
   "id": "5b6ac6e6-2ab7-4a7d-8710-3085e8db44b6",
   "metadata": {},
   "outputs": [],
   "source": []
  }
 ],
 "metadata": {
  "kernelspec": {
   "display_name": "Python 3 (ipykernel)",
   "language": "python",
   "name": "python3"
  },
  "language_info": {
   "codemirror_mode": {
    "name": "ipython",
    "version": 3
   },
   "file_extension": ".py",
   "mimetype": "text/x-python",
   "name": "python",
   "nbconvert_exporter": "python",
   "pygments_lexer": "ipython3",
   "version": "3.11.13"
  }
 },
 "nbformat": 4,
 "nbformat_minor": 5
}
