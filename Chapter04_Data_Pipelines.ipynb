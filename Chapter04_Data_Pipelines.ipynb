{
 "cells": [
  {
   "cell_type": "markdown",
   "id": "e26fee1a-63eb-4040-a50b-9ff7b8405367",
   "metadata": {},
   "source": [
    "# Connect to Snowflake"
   ]
  },
  {
   "cell_type": "code",
   "execution_count": 10,
   "id": "f4e10110-5343-4b46-8ba4-eed5e107dbb0",
   "metadata": {},
   "outputs": [
    {
     "data": {
      "text/plain": [
       "True"
      ]
     },
     "execution_count": 10,
     "metadata": {},
     "output_type": "execute_result"
    }
   ],
   "source": [
    "from dotenv import load_dotenv\n",
    "load_dotenv()     # loads keys into os.environ so the rest of your code sees them"
   ]
  },
  {
   "cell_type": "code",
   "execution_count": 11,
   "id": "f5571488-204d-467a-afa0-5f08b5693ff0",
   "metadata": {},
   "outputs": [],
   "source": [
    "# authenticate into Snowflake\n",
    "from snowflake.snowpark import Session\n",
    "import os\n",
    "connection_parameters = {\n",
    "    \"account\": os.getenv('SNOWFLAKE_ACCOUNT'),\n",
    "    \"user\": os.getenv('SNOWFLAKE_USER'),\n",
    "    \"password\": os.getenv('SNOWFLAKE_PASSWORD'),\n",
    "    \"role\": os.getenv('SNOWFLAKE_ROLE'),\n",
    "    \"warehouse\": os.getenv('SNOWFLAKE_WAREHOUSE'),\n",
    "    \"database\": os.getenv('SNOWFLAKE_DATABASE'),\n",
    "    \"schema\": os.getenv('SNOWFLAKE_SCHEMA')\n",
    "}\n",
    "session = Session.builder.configs(connection_parameters).create()"
   ]
  },
  {
   "cell_type": "code",
   "execution_count": 12,
   "id": "8ca810f3-a98b-46cb-b954-b648478036b8",
   "metadata": {},
   "outputs": [
    {
     "name": "stdout",
     "output_type": "stream",
     "text": [
      "Session Current Account: \"WEVIRIP-NA38028\"\n"
     ]
    }
   ],
   "source": [
    "# check connection has been successful\n",
    "print(\"Session Current Account:\", session.get_current_account())"
   ]
  },
  {
   "cell_type": "code",
   "execution_count": 13,
   "id": "316b8368-d43d-4be0-8fa2-4b32392cb330",
   "metadata": {},
   "outputs": [],
   "source": [
    "session.use_database(\"SNOWPARK_DEFINITIVE_GUIDE\"),\n",
    "session.use_schema(\"MY_SCHEMA\")\n",
    "\n",
    "purchase_history = session.table(\"PURCHASE_HISTORY\")\n",
    "campaign_info = session.table(\"CAMPAIGN_INFO\")\n",
    "complain_info = session.table(\"COMPLAINT_INFO\")\n",
    "marketing_additional = session.table(\"MARKETING_ADDITIONAL\")"
   ]
  },
  {
   "cell_type": "markdown",
   "id": "0df313bf-7b5e-4ebc-a551-832cd1f49bf1",
   "metadata": {},
   "source": [
    "# Data Engineering Pipelines"
   ]
  },
  {
   "cell_type": "markdown",
   "id": "c9895ca7-a768-440a-8b28-a13d7df37bca",
   "metadata": {},
   "source": [
    "## Step 1 - Joining Purchase History Table with Campaign Info"
   ]
  },
  {
   "cell_type": "code",
   "execution_count": 14,
   "id": "c6ad3944-c9c5-4dc2-9fd6-f75bc385f137",
   "metadata": {},
   "outputs": [],
   "source": [
    "# join the purchase history with the campaign information\n",
    "def combine_campaign_table(purchase_history, campaign_info):\n",
    "    purchase_campaign = purchase_history.join(\n",
    "        campaign_info, \\\n",
    "        purchase_history.ID == campaign_info.ID, \\\n",
    "        lsuffix='_left', rsuffix='_right'\n",
    "    )\n",
    "    purchase_campaign = purchase_campaign.drop('ID_RIGHT')\n",
    "    return purchase_campaign"
   ]
  },
  {
   "cell_type": "markdown",
   "id": "c353873b-d9fd-418d-b589-a6c84a1d1c9d",
   "metadata": {},
   "source": [
    "## Step 2 - Joining Purchase Campaign with Complain Info Table"
   ]
  },
  {
   "cell_type": "code",
   "execution_count": 15,
   "id": "be14bf7e-3313-4d7c-9cdc-4131675415db",
   "metadata": {},
   "outputs": [],
   "source": [
    "# join the purchase campaign with the complaint information \n",
    "# using the same ID column and then create a purchase_campaign_complain DataFrame\n",
    "def combine_complain_table(purchase_campaign, complain_info):\n",
    "    purchase_campaign_complain = purchase_campaign.join(\n",
    "        complain_info, \\\n",
    "        purchase_campaign['ID_LEFT'] == complain_info.ID\n",
    "    )\n",
    "    purchase_campaign_complain = purchase_campaign_complain.drop('ID_LEFT')\n",
    "    return purchase_campaign_complain"
   ]
  },
  {
   "cell_type": "markdown",
   "id": "f3e875aa-ad75-47e4-8183-936554c98170",
   "metadata": {},
   "source": [
    "## Step 3 - Union Additional Marketing Table with Purchase Campaign Complain Data"
   ]
  },
  {
   "cell_type": "code",
   "execution_count": 16,
   "id": "1a30a4a1-f671-44dc-898b-72c7817f2cb9",
   "metadata": {},
   "outputs": [],
   "source": [
    "# marketing table is created by the union of the data between the purchase complaint and the marketing table\n",
    "def union_marketing_additional_table(purchase_campaign_complain,marketing_additional):\n",
    "    final_marketing_table = purchase_campaign_complain.union_by_name(marketing_additional)\n",
    "    return final_marketing_table"
   ]
  },
  {
   "cell_type": "markdown",
   "id": "001ef425-b76d-4bda-89e0-dcd1e78e01dc",
   "metadata": {},
   "source": [
    "## Stored Procedure - Data Preparation"
   ]
  },
  {
   "cell_type": "code",
   "execution_count": 18,
   "id": "f6709608-871b-40a9-a724-077d9b385c64",
   "metadata": {},
   "outputs": [],
   "source": [
    "from snowflake.snowpark.functions import sproc\n",
    "import snowflake\n",
    "\n",
    "def data_prep(session: Session) -> str:\n",
    "    #### Loading Required Tables\n",
    "    purchase_history = session.table(\"PURCHASE_HISTORY\")\n",
    "    campaign_info = session.table(\"CAMPAIGN_INFO\")\n",
    "    complain_info = session.table(\"COMPLAINT_INFO\")\n",
    "    marketing_additional = session.table(\"MARKETING_ADDITIONAL\")\n",
    "\n",
    "    #### Calling Step 1\n",
    "    purchase_campaign = combine_campaign_table(purchase_history, campaign_info)\n",
    "\n",
    "    #### Calling Step 2\n",
    "    purchase_campaign_complain = combine_complain_table(purchase_campaign, complain_info)\n",
    "\n",
    "    #### Calling Step 3\n",
    "    final_marketing_data = union_marketing_additional_table(purchase_campaign_complain, marketing_additional)\n",
    "\n",
    "    #### Writing Combined Data to New Table\n",
    "    final_marketing_data.write.save_as_table('FINAL_MARKETING_DATA')\n",
    "    return 'LOADED FINAL MARKETING DATA TABLE'\n",
    "\n",
    "# Create an instance of StoredProcedure using the sproc() function\n",
    "from snowflake.snowpark.types import IntegerType, StringType\n",
    "data_prep_sproc = sproc(\n",
    "                            func=data_prep,\\\n",
    "                            replace=True,\\\n",
    "                            return_type = StringType(),\\\n",
    "                            stage_location='@my_stage',\\\n",
    "                            packages=['snowflake-snowpark-python']\n",
    "                        )"
   ]
  },
  {
   "cell_type": "markdown",
   "id": "6502d5dc-221a-44f6-af0d-029c6f455adb",
   "metadata": {},
   "source": [
    "## Stored Procedure - Data Transformation"
   ]
  },
  {
   "cell_type": "code",
   "execution_count": 19,
   "id": "47cadd3e-89c8-471e-8926-a6e2e7f1cf90",
   "metadata": {},
   "outputs": [],
   "source": [
    "def data_transform(session: Session) -> str:\n",
    "    \n",
    "    #### Loading Required Tables\n",
    "    marketing_final = session.table(\"FINAL_MARKETING_DATA\")\n",
    "    market_subset = marketing_final.select('EDUCATION', 'MARITAL_STATUS', 'INCOME')\n",
    "    market_pivot = market_subset.pivot(\"EDUCATION\",[\"Graduation\",\"PhD\",\"Master\",\"Basic\",\"2n Cycle\"]).sum(\"INCOME\")\n",
    "\n",
    "    #### Writing Transformed Data to New Table\n",
    "    market_pivot.write.save_as_table('MARKETING_PIVOT')\n",
    "    return 'CREATED MARKETING PIVOT TABLE'\n",
    "\n",
    "data_transform_sproc = sproc(\n",
    "                        func= data_transform,\\\n",
    "                        replace=True,\\\n",
    "                        return_type = StringType(),\\\n",
    "                        stage_location='@MY_STAGE',\\\n",
    "                        packages=['snowflake-snowpark-python']\n",
    ")"
   ]
  },
  {
   "cell_type": "markdown",
   "id": "3a9f8d14-3c72-45e1-8e71-b94b825eb036",
   "metadata": {},
   "source": [
    "## Stored Procedure - Data Cleanup"
   ]
  },
  {
   "cell_type": "code",
   "execution_count": 20,
   "id": "3ad1051d-73c8-4f4d-b548-f1590679afb5",
   "metadata": {},
   "outputs": [],
   "source": [
    "def data_cleanup(session: Session) -> str:\n",
    "    \n",
    "    #### Loading Required Tables\n",
    "    market_pivot = session.table(\"MARKETING_PIVOT\")\n",
    "    \n",
    "    market_drop_null = market_pivot.dropna(thresh=5)\n",
    "\n",
    "\n",
    "    #### Writing Cleaned Data To New Table\n",
    "    market_drop_null.write.save_as_table(\"MARKET_PIVOT_CLEANED\")\n",
    "    return \"CREATED CLEANED TABLE\"\n",
    "\n",
    "\n",
    "data_cleanup_sproc = sproc(\n",
    "                        func= data_cleanup,\\\n",
    "                        replace=True,\\\n",
    "                        return_type = StringType(),\\\n",
    "                        stage_location=\"@my_stage\",\\\n",
    "                        packages=[\"snowflake-snowpark-python\"]\n",
    "                        )"
   ]
  },
  {
   "cell_type": "code",
   "execution_count": null,
   "id": "54cae707-2938-4637-a61d-b97098790834",
   "metadata": {},
   "outputs": [],
   "source": [
    "# session.sql(\"drop table FINAL_MARKETING_DATA;\").show()\n",
    "# session.sql(\"drop table MARKETING_PIVOT;\").show()\n",
    "# session.sql(\"drop table MARKET_PIVOT_CLEANED;\").show()"
   ]
  },
  {
   "cell_type": "markdown",
   "id": "297ed05a-8889-4347-9501-adeceb74976d",
   "metadata": {},
   "source": [
    "## Calling Stored Procedure"
   ]
  },
  {
   "cell_type": "code",
   "execution_count": 21,
   "id": "e26da320-fc54-4b1e-a176-f720a4dea695",
   "metadata": {},
   "outputs": [
    {
     "data": {
      "text/plain": [
       "'CREATED CLEANED TABLE'"
      ]
     },
     "execution_count": 21,
     "metadata": {},
     "output_type": "execute_result"
    }
   ],
   "source": [
    "#### Calling Data Preparation Stored Procedure\n",
    "data_prep_sproc()\n",
    "\n",
    "#### Calling Data Transformation Stored Procedure\n",
    "data_transform_sproc()\n",
    "\n",
    "#### Calling Data Cleanup Stored Procedure\n",
    "data_cleanup_sproc()"
   ]
  },
  {
   "cell_type": "code",
   "execution_count": null,
   "id": "9e258a22-df42-45f7-989d-9292e099ab56",
   "metadata": {},
   "outputs": [],
   "source": []
  },
  {
   "cell_type": "markdown",
   "id": "2c0b7f61-576b-49ae-a795-4554f006ce69",
   "metadata": {},
   "source": [
    "# Close Snowflake Session"
   ]
  },
  {
   "cell_type": "code",
   "execution_count": 22,
   "id": "9c9b86ce-d6ad-437b-b552-29fbc0bb8955",
   "metadata": {},
   "outputs": [],
   "source": [
    "# always close a session\n",
    "session.close()"
   ]
  },
  {
   "cell_type": "code",
   "execution_count": null,
   "id": "5b6ac6e6-2ab7-4a7d-8710-3085e8db44b6",
   "metadata": {},
   "outputs": [],
   "source": []
  }
 ],
 "metadata": {
  "kernelspec": {
   "display_name": "Python 3 (ipykernel)",
   "language": "python",
   "name": "python3"
  },
  "language_info": {
   "codemirror_mode": {
    "name": "ipython",
    "version": 3
   },
   "file_extension": ".py",
   "mimetype": "text/x-python",
   "name": "python",
   "nbconvert_exporter": "python",
   "pygments_lexer": "ipython3",
   "version": "3.11.13"
  }
 },
 "nbformat": 4,
 "nbformat_minor": 5
}
