{
 "cells": [
  {
   "cell_type": "markdown",
   "id": "4aaa2b14-7774-4933-b217-e74af154fb1f",
   "metadata": {},
   "source": [
    "# Connect to Snowflake"
   ]
  },
  {
   "cell_type": "code",
   "execution_count": 1,
   "id": "3c9efb75",
   "metadata": {},
   "outputs": [
    {
     "data": {
      "text/plain": [
       "True"
      ]
     },
     "execution_count": 1,
     "metadata": {},
     "output_type": "execute_result"
    }
   ],
   "source": [
    "from dotenv import load_dotenv\n",
    "load_dotenv()     # loads keys into os.environ so the rest of your code sees them"
   ]
  },
  {
   "cell_type": "code",
   "execution_count": 8,
   "id": "407b09c1",
   "metadata": {},
   "outputs": [],
   "source": [
    "# authenticate into Snowflake\n",
    "from snowflake.snowpark import Session\n",
    "import os\n",
    "connection_parameters = {\n",
    "    \"account\": os.getenv('SNOWFLAKE_ACCOUNT'),\n",
    "    \"user\": os.getenv('SNOWFLAKE_USER'),\n",
    "    \"password\": os.getenv('SNOWFLAKE_PASSWORD'),\n",
    "    \"role\": os.getenv('SNOWFLAKE_ROLE'),\n",
    "    \"warehouse\": os.getenv('SNOWFLAKE_WAREHOUSE'),\n",
    "    \"database\": os.getenv('SNOWFLAKE_DATABASE'),\n",
    "    \"schema\": os.getenv('SNOWFLAKE_SCHEMA')\n",
    "}\n",
    "session = Session.builder.configs(connection_parameters).create()"
   ]
  },
  {
   "cell_type": "code",
   "execution_count": 9,
   "id": "dd85c34f-412b-4fbb-87df-348b8c62b881",
   "metadata": {},
   "outputs": [
    {
     "name": "stdout",
     "output_type": "stream",
     "text": [
      "Session Current Account: \"WEVIRIP-NA38028\"\n"
     ]
    }
   ],
   "source": [
    "# check connection has been successful\n",
    "print(\"Session Current Account:\", session.get_current_account())"
   ]
  },
  {
   "cell_type": "markdown",
   "id": "cdf905f4-122e-4443-a90f-d8d368afec88",
   "metadata": {},
   "source": [
    "# Working with User Defined Functions (UDF)"
   ]
  },
  {
   "cell_type": "code",
   "execution_count": 28,
   "id": "94ac9467-c01a-40a8-8568-463f6a5a7ffa",
   "metadata": {},
   "outputs": [],
   "source": [
    "# NOTE: SAMPLE_EMPLOYEE_DATA table from \"Working with DataFrames\" section must be created\n",
    "\n",
    "# create a UDF\n",
    "def last_name_finder(input_name:str):\n",
    "    last_name = input_name.split()[1]\n",
    "    return last_name\n",
    "\n",
    "from snowflake.snowpark.types import StringType, IntegerType, ArrayType\n",
    "\n",
    "test = session.udf.register(\n",
    "    func = last_name_finder,\n",
    "    return_type = StringType(),\n",
    "    input_types = [StringType()],\n",
    "    is_permanent = True,\n",
    "    name = 'LAST_NAME_FINDER',\n",
    "    replace = True,\n",
    "    stage_location = '@MY_STAGE'\n",
    ")"
   ]
  },
  {
   "cell_type": "code",
   "execution_count": 29,
   "id": "5c826824-0bbd-4c36-bb23-6f8d22c2f63d",
   "metadata": {},
   "outputs": [
    {
     "name": "stdout",
     "output_type": "stream",
     "text": [
      "----------------------------------\n",
      "|\"NAME\"            |\"LAST_NAME\"  |\n",
      "----------------------------------\n",
      "|John Doe          |Doe          |\n",
      "|Jane Smith        |Smith        |\n",
      "|Michael Johnson   |Johnson      |\n",
      "|Sarah Williams    |Williams     |\n",
      "|David Brown       |Brown        |\n",
      "|Emily Davis       |Davis        |\n",
      "|James Miller      |Miller       |\n",
      "|Emma Wilson       |Wilson       |\n",
      "|Alexander Taylor  |Taylor       |\n",
      "|Olivia Anderson   |Anderson     |\n",
      "----------------------------------\n",
      "\n"
     ]
    }
   ],
   "source": [
    "# execute the UDF in a query\n",
    "session.sql('''SELECT \n",
    "    NAME,\n",
    "    LAST_NAME_FINDER(NAME) AS LAST_NAME\n",
    "    FROM SAMPLE_EMPLOYEE_DATA\n",
    "''').show() "
   ]
  },
  {
   "cell_type": "code",
   "execution_count": 31,
   "id": "162af6fd-9147-4303-99c3-a69f0461d3be",
   "metadata": {},
   "outputs": [
    {
     "name": "stdout",
     "output_type": "stream",
     "text": [
      "---------------------------------------------------------------------------------------------------------\n",
      "|\"ID\"  |\"NAME\"            |\"AGE\"  |\"EMAIL\"                      |\"CITY\"       |\"COUNTRY\"  |\"LAST_NAME\"  |\n",
      "---------------------------------------------------------------------------------------------------------\n",
      "|1     |John Doe          |25     |johndoe@example.com          |New York     |USA        |Doe          |\n",
      "|2     |Jane Smith        |30     |janesmith@example.com        |Los Angeles  |USA        |Smith        |\n",
      "|3     |Michael Johnson   |35     |michaeljohnson@example.com   |London       |UK         |Johnson      |\n",
      "|4     |Sarah Williams    |28     |sarahwilliams@example.com    |Leeds        |UK         |Williams     |\n",
      "|5     |David Brown       |32     |davidbrown@example.com       |Tokyo        |Japan      |Brown        |\n",
      "|6     |Emily Davis       |29     |emilydavis@example.com       |Sydney       |Australia  |Davis        |\n",
      "|7     |James Miller      |27     |jamesmiller@example.com      |Dallas       |USA        |Miller       |\n",
      "|8     |Emma Wilson       |33     |emmawilson@example.com       |Berlin       |Germany    |Wilson       |\n",
      "|9     |Alexander Taylor  |31     |alexandertaylor@example.com  |Rome         |Italy      |Taylor       |\n",
      "|10    |Olivia Anderson   |26     |oliviaanderson@example.com   |Melbourne    |Australia  |Anderson     |\n",
      "---------------------------------------------------------------------------------------------------------\n",
      "\n"
     ]
    }
   ],
   "source": [
    "# call UDF from a DataFrame function\n",
    "from snowflake.snowpark.functions import col, call_udf\n",
    "df = session.table('SAMPLE_EMPLOYEE_DATA')\n",
    "df.with_column(\"last_name\", call_udf('LAST_NAME_FINDER', col('name'))).show()"
   ]
  },
  {
   "cell_type": "markdown",
   "id": "a783699d-2bc6-4b43-9e01-75901a4963a8",
   "metadata": {},
   "source": [
    "# Working with User Defined Table Functions (UDTF)"
   ]
  },
  {
   "cell_type": "code",
   "execution_count": 33,
   "id": "197f3db2-fa9a-44a4-bf9a-c5e3dbc677c4",
   "metadata": {},
   "outputs": [
    {
     "data": {
      "text/plain": [
       "<snowflake.snowpark.udtf.UserDefinedTableFunction at 0x14338e410>"
      ]
     },
     "execution_count": 33,
     "metadata": {},
     "output_type": "execute_result"
    }
   ],
   "source": [
    "# NOTE: SAMPLE_EMPLOYEE_DATA table from \"Working with DataFrames\" section must be created\n",
    "\n",
    "# UDTF Handler Class\n",
    "class CalculateAverage:\n",
    "    def __init__(self):\n",
    "        self._values = []\n",
    "\n",
    "    def process(self, input_measure: int):\n",
    "        self._values.append(input_measure)\n",
    "\n",
    "    def end_partition(self):\n",
    "        values_list = self._values\n",
    "        average = sum(values_list) / len(values_list)\n",
    "        yield(average ,)\n",
    "        \n",
    "\n",
    "from snowflake.snowpark.types import StructType, StructField\n",
    "from snowflake.snowpark.types import FloatType, IntegerType, StringType\n",
    "\n",
    "output_schema = StructType([\n",
    "    StructField('Avg_Age', FloatType())\n",
    "])\n",
    "\n",
    "session.udtf.register(\n",
    "    handler = CalculateAverage,\n",
    "    output_schema = output_schema,\n",
    "    input_types = [IntegerType()],\n",
    "    is_permanent = True,\n",
    "    name = 'AVERAGE_AGE',\n",
    "    replace = True,\n",
    "    stage_location = '@MY_STAGE'\n",
    ")"
   ]
  },
  {
   "cell_type": "code",
   "execution_count": 34,
   "id": "8ca0b8d0-9661-4725-ba40-948d1c2c484a",
   "metadata": {},
   "outputs": [
    {
     "name": "stdout",
     "output_type": "stream",
     "text": [
      "----------------------------------\n",
      "|\"COUNTRY\"  |\"AVG_AGE\"           |\n",
      "----------------------------------\n",
      "|UK         |31.5                |\n",
      "|USA        |27.333333333333332  |\n",
      "|Germany    |33.0                |\n",
      "|Italy      |31.0                |\n",
      "|Australia  |27.5                |\n",
      "|Japan      |32.0                |\n",
      "----------------------------------\n",
      "\n"
     ]
    }
   ],
   "source": [
    "# execute the UDTF\n",
    "session.sql('''\n",
    "    SELECT\n",
    "        COUNTRY, Avg_Age\n",
    "    FROM\n",
    "        SAMPLE_EMPLOYEE_DATA,\n",
    "        table(AVERAGE_AGE(AGE) OVER (partition by COUNTRY))\n",
    "''').show()"
   ]
  },
  {
   "cell_type": "markdown",
   "id": "458eb689-dc58-4be1-ab13-8847a249ad25",
   "metadata": {},
   "source": [
    "# Working with Vectorised UDF's"
   ]
  },
  {
   "cell_type": "code",
   "execution_count": 38,
   "id": "6dbb355f-a5da-4e36-ae18-5095e8c34965",
   "metadata": {},
   "outputs": [
    {
     "ename": "ValueError",
     "evalue": "You cannot create a non-vectorized UDF using pandas_udf(). Use udf() instead.",
     "output_type": "error",
     "traceback": [
      "\u001b[31m---------------------------------------------------------------------------\u001b[39m",
      "\u001b[31mValueError\u001b[39m                                Traceback (most recent call last)",
      "\u001b[36mCell\u001b[39m\u001b[36m \u001b[39m\u001b[32mIn[38]\u001b[39m\u001b[32m, line 7\u001b[39m\n\u001b[32m      4\u001b[39m \u001b[38;5;28;01mfrom\u001b[39;00m\u001b[38;5;250m \u001b[39m\u001b[34;01msnowflake\u001b[39;00m\u001b[34;01m.\u001b[39;00m\u001b[34;01msnowpark\u001b[39;00m\u001b[34;01m.\u001b[39;00m\u001b[34;01mfunctions\u001b[39;00m\u001b[38;5;250m \u001b[39m\u001b[38;5;28;01mimport\u001b[39;00m pandas_udf, call_udf\n\u001b[32m      5\u001b[39m \u001b[38;5;28;01mfrom\u001b[39;00m\u001b[38;5;250m \u001b[39m\u001b[34;01msnowflake\u001b[39;00m\u001b[34;01m.\u001b[39;00m\u001b[34;01msnowpark\u001b[39;00m\u001b[34;01m.\u001b[39;00m\u001b[34;01mtypes\u001b[39;00m\u001b[38;5;250m \u001b[39m\u001b[38;5;28;01mimport\u001b[39;00m IntegerType, PandasSeriesType, StringType\n\u001b[32m----> \u001b[39m\u001b[32m7\u001b[39m \u001b[38;5;129m@pandas_udf\u001b[39m(\n\u001b[32m      8\u001b[39m     name=\u001b[33m'\u001b[39m\u001b[33mcolumn_adder\u001b[39m\u001b[33m'\u001b[39m,\n\u001b[32m      9\u001b[39m     stage_location=\u001b[33m'\u001b[39m\u001b[33m@MY_STAGE\u001b[39m\u001b[33m'\u001b[39m,\n\u001b[32m     10\u001b[39m     input_types=[PandasSeriesType(StringType()), PandasSeriesType(StringType())],\n\u001b[32m     11\u001b[39m     return_type=PandasSeriesType(StringType()),\n\u001b[32m     12\u001b[39m     is_permanent = \u001b[38;5;28;01mTrue\u001b[39;00m,\n\u001b[32m     13\u001b[39m     replace = \u001b[38;5;28;01mTrue\u001b[39;00m)\n\u001b[32m     14\u001b[39m \u001b[38;5;28;01mdef\u001b[39;00m\u001b[38;5;250m \u001b[39m\u001b[34mcolumn_adder\u001b[39m(column1, column2):\n\u001b[32m     15\u001b[39m     \u001b[38;5;28;01mreturn\u001b[39;00m column1.astype(\u001b[38;5;28mstr\u001b[39m) + \u001b[33m\"\u001b[39m\u001b[33m,\u001b[39m\u001b[33m\"\u001b[39m + column2.astype(\u001b[38;5;28mstr\u001b[39m)\n\u001b[32m     17\u001b[39m df = session.table(\u001b[33m\"\u001b[39m\u001b[33mSAMPLE_EMPLOYEE_DATA\u001b[39m\u001b[33m\"\u001b[39m)\n",
      "\u001b[36mFile \u001b[39m\u001b[32m/opt/anaconda3/envs/snowpark_3.11_env/lib/python3.11/site-packages/snowflake/snowpark/_internal/utils.py:1114\u001b[39m, in \u001b[36mpublicapi.<locals>.call_wrapper\u001b[39m\u001b[34m(*args, **kwargs)\u001b[39m\n\u001b[32m   1110\u001b[39m     \u001b[38;5;28;01mreturn\u001b[39;00m func(*args, **kwargs)\n\u001b[32m   1112\u001b[39m \u001b[38;5;28;01mif\u001b[39;00m \u001b[33m\"\u001b[39m\u001b[33m_emit_ast\u001b[39m\u001b[33m\"\u001b[39m \u001b[38;5;129;01min\u001b[39;00m kwargs:\n\u001b[32m   1113\u001b[39m     \u001b[38;5;66;03m# The caller provided _emit_ast explicitly.\u001b[39;00m\n\u001b[32m-> \u001b[39m\u001b[32m1114\u001b[39m     \u001b[38;5;28;01mreturn\u001b[39;00m func(*args, **kwargs)\n\u001b[32m   1116\u001b[39m kwargs[\u001b[33m\"\u001b[39m\u001b[33m_emit_ast\u001b[39m\u001b[33m\"\u001b[39m] = is_ast_enabled()\n\u001b[32m   1118\u001b[39m \u001b[38;5;66;03m# TODO: Could modify internal docstring to display that users should not modify the _emit_ast parameter.\u001b[39;00m\n",
      "\u001b[36mFile \u001b[39m\u001b[32m/opt/anaconda3/envs/snowpark_3.11_env/lib/python3.11/site-packages/snowflake/snowpark/udf.py:659\u001b[39m, in \u001b[36mUDFRegistration.register\u001b[39m\u001b[34m(self, func, return_type, input_types, name, is_permanent, stage_location, imports, packages, replace, if_not_exists, parallel, max_batch_size, strict, secure, external_access_integrations, secrets, immutable, comment, copy_grants, statement_params, source_code_display, artifact_repository, resource_constraint, _emit_ast, **kwargs)\u001b[39m\n\u001b[32m    656\u001b[39m native_app_params = kwargs.pop(\u001b[33m\"\u001b[39m\u001b[33mnative_app_params\u001b[39m\u001b[33m\"\u001b[39m, \u001b[38;5;28;01mNone\u001b[39;00m)\n\u001b[32m    658\u001b[39m \u001b[38;5;66;03m# register udf\u001b[39;00m\n\u001b[32m--> \u001b[39m\u001b[32m659\u001b[39m \u001b[38;5;28;01mreturn\u001b[39;00m \u001b[38;5;28mself\u001b[39m._do_register_udf(\n\u001b[32m    660\u001b[39m     func,\n\u001b[32m    661\u001b[39m     return_type,\n\u001b[32m    662\u001b[39m     input_types,\n\u001b[32m    663\u001b[39m     name,\n\u001b[32m    664\u001b[39m     stage_location,\n\u001b[32m    665\u001b[39m     imports,\n\u001b[32m    666\u001b[39m     packages,\n\u001b[32m    667\u001b[39m     replace,\n\u001b[32m    668\u001b[39m     if_not_exists,\n\u001b[32m    669\u001b[39m     parallel,\n\u001b[32m    670\u001b[39m     max_batch_size,\n\u001b[32m    671\u001b[39m     _from_pandas,\n\u001b[32m    672\u001b[39m     strict,\n\u001b[32m    673\u001b[39m     secure,\n\u001b[32m    674\u001b[39m     external_access_integrations=external_access_integrations,\n\u001b[32m    675\u001b[39m     secrets=secrets,\n\u001b[32m    676\u001b[39m     immutable=immutable,\n\u001b[32m    677\u001b[39m     comment=comment,\n\u001b[32m    678\u001b[39m     native_app_params=native_app_params,\n\u001b[32m    679\u001b[39m     statement_params=statement_params,\n\u001b[32m    680\u001b[39m     source_code_display=source_code_display,\n\u001b[32m    681\u001b[39m     api_call_source=\u001b[33m\"\u001b[39m\u001b[33mUDFRegistration.register\u001b[39m\u001b[33m\"\u001b[39m\n\u001b[32m    682\u001b[39m     + (\u001b[33m\"\u001b[39m\u001b[33m[pandas_udf]\u001b[39m\u001b[33m\"\u001b[39m \u001b[38;5;28;01mif\u001b[39;00m _from_pandas \u001b[38;5;28;01melse\u001b[39;00m \u001b[33m\"\u001b[39m\u001b[33m\"\u001b[39m),\n\u001b[32m    683\u001b[39m     is_permanent=is_permanent,\n\u001b[32m    684\u001b[39m     copy_grants=copy_grants,\n\u001b[32m    685\u001b[39m     artifact_repository=artifact_repository,\n\u001b[32m    686\u001b[39m     resource_constraint=resource_constraint,\n\u001b[32m    687\u001b[39m     _emit_ast=_emit_ast,\n\u001b[32m    688\u001b[39m     **kwargs,\n\u001b[32m    689\u001b[39m )\n",
      "\u001b[36mFile \u001b[39m\u001b[32m/opt/anaconda3/envs/snowpark_3.11_env/lib/python3.11/site-packages/snowflake/snowpark/udf.py:967\u001b[39m, in \u001b[36mUDFRegistration._do_register_udf\u001b[39m\u001b[34m(self, func, return_type, input_types, name, stage_location, imports, packages, replace, if_not_exists, parallel, max_batch_size, from_pandas_udf_function, strict, secure, external_access_integrations, secrets, immutable, comment, native_app_params, statement_params, source_code_display, api_call_source, skip_upload_on_content_match, is_permanent, copy_grants, artifact_repository, resource_constraint, _emit_ast, **kwargs)\u001b[39m\n\u001b[32m    964\u001b[39m \u001b[38;5;66;03m# allow registering pandas UDF from udf(),\u001b[39;00m\n\u001b[32m    965\u001b[39m \u001b[38;5;66;03m# but not allow registering non-pandas UDF from pandas_udf()\u001b[39;00m\n\u001b[32m    966\u001b[39m \u001b[38;5;28;01mif\u001b[39;00m from_pandas_udf_function \u001b[38;5;129;01mand\u001b[39;00m \u001b[38;5;129;01mnot\u001b[39;00m is_pandas_udf:\n\u001b[32m--> \u001b[39m\u001b[32m967\u001b[39m     \u001b[38;5;28;01mraise\u001b[39;00m \u001b[38;5;167;01mValueError\u001b[39;00m(\n\u001b[32m    968\u001b[39m         \u001b[33m\"\u001b[39m\u001b[33mYou cannot create a non-vectorized UDF using pandas_udf(). \u001b[39m\u001b[33m\"\u001b[39m\n\u001b[32m    969\u001b[39m         \u001b[33m\"\u001b[39m\u001b[33mUse udf() instead.\u001b[39m\u001b[33m\"\u001b[39m\n\u001b[32m    970\u001b[39m     )\n\u001b[32m    972\u001b[39m (\n\u001b[32m    973\u001b[39m     handler,\n\u001b[32m    974\u001b[39m     code,\n\u001b[32m   (...)\u001b[39m\u001b[32m    996\u001b[39m     artifact_repository=artifact_repository,\n\u001b[32m    997\u001b[39m )\n\u001b[32m    999\u001b[39m runtime_version_from_requirement = \u001b[38;5;28;01mNone\u001b[39;00m\n",
      "\u001b[31mValueError\u001b[39m: You cannot create a non-vectorized UDF using pandas_udf(). Use udf() instead."
     ]
    }
   ],
   "source": [
    "# NOTE: SAMPLE_EMPLOYEE_DATA table from \"Working with DataFrames\" section must be created\n",
    "\n",
    "import pandas as pd\n",
    "from snowflake.snowpark.functions import pandas_udf, call_udf\n",
    "from snowflake.snowpark.types import IntegerType, PandasSeriesType, StringType\n",
    "\n",
    "@pandas_udf(\n",
    "    name='column_adder',\n",
    "    stage_location='@MY_STAGE',\n",
    "    input_types=[PandasSeriesType(StringType()), PandasSeriesType(StringType())],\n",
    "    return_type=PandasSeriesType(StringType()),\n",
    "    is_permanent = True,\n",
    "    replace = True)\n",
    "def column_adder(column1, column2):\n",
    "    return column1.astype(str) + \",\" + column2.astype(str)\n",
    "\n",
    "df = session.table(\"SAMPLE_EMPLOYEE_DATA\")\n",
    "df2 = df.withColumn('City_Country',\n",
    "                    call_udf('column_adder', col('CITY'), col('COUNTRY')))\n",
    "df2.show()"
   ]
  },
  {
   "cell_type": "markdown",
   "id": "aa21e1f3-3552-43df-9a69-276c5b999fdc",
   "metadata": {},
   "source": [
    "# Working with DataFrames"
   ]
  },
  {
   "cell_type": "code",
   "execution_count": 13,
   "id": "8dd24ea0-27c7-42dc-83d3-b39ee7a40ddc",
   "metadata": {},
   "outputs": [
    {
     "data": {
      "text/plain": [
       "[Row(status='Table SAMPLE_EMPLOYEE_DATA successfully created.')]"
      ]
     },
     "execution_count": 13,
     "metadata": {},
     "output_type": "execute_result"
    }
   ],
   "source": [
    "# create a table\n",
    "session.sql('CREATE OR REPLACE TABLE SAMPLE_EMPLOYEE_DATA(id INT, name VARCHAR, age INT, email VARCHAR, city VARCHAR, country VARCHAR)').collect()"
   ]
  },
  {
   "cell_type": "code",
   "execution_count": 14,
   "id": "b69d54d8-17cb-4faf-a899-2a1fe6833f8f",
   "metadata": {},
   "outputs": [
    {
     "data": {
      "text/plain": [
       "[Row(number of rows inserted=10)]"
      ]
     },
     "execution_count": 14,
     "metadata": {},
     "output_type": "execute_result"
    }
   ],
   "source": [
    "# populate table with some data\n",
    "session.sql(\"\"\"\n",
    "    INSERT INTO SAMPLE_EMPLOYEE_DATA VALUES\n",
    "    (1,'John Doe',25,'johndoe@example.com','New York','USA'),\n",
    "    (2,'Jane Smith',30,'janesmith@example.com','Los Angeles','USA'),\n",
    "    (3,'Michael Johnson',35,'michaeljohnson@example.com','London',\n",
    "       'UK'),\n",
    "    (4,'Sarah Williams',28,'sarahwilliams@example.com','Leeds',\n",
    "       'UK'),\n",
    "    (5,'David Brown',32,'davidbrown@example.com','Tokyo','Japan'),\n",
    "    (6,'Emily Davis',29,'emilydavis@example.com','Sydney',\n",
    "       'Australia'),\n",
    "    (7,'James Miller',27,'jamesmiller@example.com','Dallas','USA'),\n",
    "    (8,'Emma Wilson',33,'emmawilson@example.com','Berlin','Germany'),\n",
    "    (9,'Alexander Taylor',31,'alexandertaylor@example.com',\n",
    "       'Rome','Italy'),\n",
    "    (10,'Olivia Anderson',26,'oliviaanderson@example.com',\n",
    "        'Melbourne','Australia')\n",
    "\"\"\").collect()"
   ]
  },
  {
   "cell_type": "code",
   "execution_count": 15,
   "id": "a49a2308-6a0b-4bb6-8522-753fc177d173",
   "metadata": {},
   "outputs": [
    {
     "data": {
      "text/plain": [
       "[Row(COUNT(*)=10)]"
      ]
     },
     "execution_count": 15,
     "metadata": {},
     "output_type": "execute_result"
    }
   ],
   "source": [
    "# return number of rows\n",
    "session.sql('SELECT COUNT(*) FROM SAMPLE_EMPLOYEE_DATA').collect()"
   ]
  },
  {
   "cell_type": "code",
   "execution_count": 16,
   "id": "d071e52d-3a80-44c9-a8df-e836d9a7507f",
   "metadata": {},
   "outputs": [
    {
     "name": "stdout",
     "output_type": "stream",
     "text": [
      "------------------------------------------------------------------------\n",
      "|\"ID\"  |\"NAME\"    |\"AGE\"  |\"EMAIL\"              |\"CITY\"    |\"COUNTRY\"  |\n",
      "------------------------------------------------------------------------\n",
      "|1     |John Doe  |25     |johndoe@example.com  |New York  |USA        |\n",
      "------------------------------------------------------------------------\n",
      "\n"
     ]
    }
   ],
   "source": [
    "# store query results in a DataFrame\n",
    "from snowflake.snowpark.functions import col\n",
    "df_subset_row = session.table(\"SAMPLE_EMPLOYEE_DATA\").filter(col(\"id\") == 1)\n",
    "df_subset_row.show()"
   ]
  },
  {
   "cell_type": "markdown",
   "id": "b0ac985e-afbe-4845-94ee-b0d55fe319f4",
   "metadata": {},
   "source": [
    "# Stored Procedures"
   ]
  },
  {
   "cell_type": "code",
   "execution_count": 25,
   "id": "c36d8b43-1308-4d86-a046-4d6f0168e318",
   "metadata": {},
   "outputs": [
    {
     "data": {
      "text/plain": [
       "<snowflake.snowpark.stored_procedure.StoredProcedure at 0x147204310>"
      ]
     },
     "execution_count": 25,
     "metadata": {},
     "output_type": "execute_result"
    }
   ],
   "source": [
    "# define a Stored Procedure\n",
    "def subset_table(snowpark_session:Session):\n",
    "    df = snowpark_session.table('SAMPLE_EMPLOYEE_DATA').select('NAME', 'AGE')\n",
    "    return df.collect()\n",
    "\n",
    "from snowflake.snowpark.types import StringType\n",
    "session.add_packages('snowflake-snowpark-python')\n",
    "\n",
    "session.sproc.register(\n",
    "    func = subset_table,\n",
    "    return_type = StringType(),\n",
    "    input_types = [],\n",
    "    is_permanent = True,\n",
    "    name = 'SPROC_SUBSET_TABLE',\n",
    "    replace = True,\n",
    "    stage_location = '@MY_STAGE'\n",
    ")"
   ]
  },
  {
   "cell_type": "code",
   "execution_count": 26,
   "id": "036b1765-579e-44a8-9d21-b847c324a9fe",
   "metadata": {},
   "outputs": [
    {
     "name": "stdout",
     "output_type": "stream",
     "text": [
      "------------------------------------------------------\n",
      "|\"SPROC_SUBSET_TABLE\"                                |\n",
      "------------------------------------------------------\n",
      "|[Row(NAME='John Doe', AGE=25), Row(NAME='Jane S...  |\n",
      "------------------------------------------------------\n",
      "\n"
     ]
    }
   ],
   "source": [
    "# run the stored procedure\n",
    "session.sql(''' CALL SPROC_SUBSET_TABLE() ''').show()"
   ]
  },
  {
   "cell_type": "markdown",
   "id": "ac7705ee-bbd4-4e95-a53a-07bf937f0787",
   "metadata": {},
   "source": [
    "# Close Snowflake Session"
   ]
  },
  {
   "cell_type": "code",
   "execution_count": 6,
   "id": "a26fc121-9abe-4fe4-b146-8a9caaa4ef26",
   "metadata": {},
   "outputs": [],
   "source": [
    "# always close a session\n",
    "session.close()"
   ]
  }
 ],
 "metadata": {
  "kernelspec": {
   "display_name": "Python 3 (ipykernel)",
   "language": "python",
   "name": "python3"
  },
  "language_info": {
   "codemirror_mode": {
    "name": "ipython",
    "version": 3
   },
   "file_extension": ".py",
   "mimetype": "text/x-python",
   "name": "python",
   "nbconvert_exporter": "python",
   "pygments_lexer": "ipython3",
   "version": "3.11.13"
  }
 },
 "nbformat": 4,
 "nbformat_minor": 5
}
