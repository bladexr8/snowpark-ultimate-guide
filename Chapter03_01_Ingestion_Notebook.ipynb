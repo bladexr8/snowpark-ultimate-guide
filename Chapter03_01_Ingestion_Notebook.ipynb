{
 "cells": [
  {
   "cell_type": "markdown",
   "id": "e26fee1a-63eb-4040-a50b-9ff7b8405367",
   "metadata": {},
   "source": [
    "# Connect to Snowflake"
   ]
  },
  {
   "cell_type": "code",
   "execution_count": 1,
   "id": "f4e10110-5343-4b46-8ba4-eed5e107dbb0",
   "metadata": {},
   "outputs": [
    {
     "data": {
      "text/plain": [
       "True"
      ]
     },
     "execution_count": 1,
     "metadata": {},
     "output_type": "execute_result"
    }
   ],
   "source": [
    "from dotenv import load_dotenv\n",
    "load_dotenv()     # loads keys into os.environ so the rest of your code sees them"
   ]
  },
  {
   "cell_type": "code",
   "execution_count": 2,
   "id": "f5571488-204d-467a-afa0-5f08b5693ff0",
   "metadata": {},
   "outputs": [],
   "source": [
    "# authenticate into Snowflake\n",
    "from snowflake.snowpark import Session\n",
    "import os\n",
    "connection_parameters = {\n",
    "    \"account\": os.getenv('SNOWFLAKE_ACCOUNT'),\n",
    "    \"user\": os.getenv('SNOWFLAKE_USER'),\n",
    "    \"password\": os.getenv('SNOWFLAKE_PASSWORD'),\n",
    "    \"role\": os.getenv('SNOWFLAKE_ROLE'),\n",
    "    \"warehouse\": os.getenv('SNOWFLAKE_WAREHOUSE'),\n",
    "    \"database\": os.getenv('SNOWFLAKE_DATABASE'),\n",
    "    \"schema\": os.getenv('SNOWFLAKE_SCHEMA')\n",
    "}\n",
    "session = Session.builder.configs(connection_parameters).create()"
   ]
  },
  {
   "cell_type": "code",
   "execution_count": 3,
   "id": "8ca810f3-a98b-46cb-b954-b648478036b8",
   "metadata": {},
   "outputs": [
    {
     "name": "stdout",
     "output_type": "stream",
     "text": [
      "Session Current Account: \"WEVIRIP-NA38028\"\n"
     ]
    }
   ],
   "source": [
    "# check connection has been successful\n",
    "print(\"Session Current Account:\", session.get_current_account())"
   ]
  },
  {
   "cell_type": "markdown",
   "id": "6b8b6eb8-b02c-4736-a121-1ce77dc1c89c",
   "metadata": {},
   "source": [
    "# Ingest CSV File"
   ]
  },
  {
   "cell_type": "code",
   "execution_count": 4,
   "id": "e543470b-1f8c-4ff5-bb9a-3a677a1a81e5",
   "metadata": {},
   "outputs": [
    {
     "data": {
      "text/plain": [
       "[PutResult(source='purchase_history.csv', target='purchase_history.csv.gz', source_size=154442, target_size=50101, source_compression='NONE', target_compression='GZIP', status='UPLOADED', message='')]"
      ]
     },
     "execution_count": 4,
     "metadata": {},
     "output_type": "execute_result"
    }
   ],
   "source": [
    "# put file in stage\n",
    "session.file.put('./datasets/purchase_history.csv', 'MY_STAGE')"
   ]
  },
  {
   "cell_type": "code",
   "execution_count": 5,
   "id": "16f67036-eeda-4ee8-a406-f8a778a6fe78",
   "metadata": {},
   "outputs": [],
   "source": [
    "# define structure of CSV File\n",
    "import snowflake.snowpark.types as T\n",
    "purchase_history_schema = T.StructType([\n",
    "    T.StructField(\"ID\", T.IntegerType()),\n",
    "    T.StructField(\"Year_Birth\", T.IntegerType()),\n",
    "    T.StructField(\"Education\", T.StringType()),\n",
    "    T.StructField(\"Marital_Status\", T.StringType()),\n",
    "    T.StructField(\"Income\", T.IntegerType()),\n",
    "    T.StructField(\"Kidhome\", T.IntegerType()),\n",
    "    T.StructField(\"Teenhome\", T.IntegerType()),\n",
    "    T.StructField(\"Dt_Customer\", T.DateType()),\n",
    "    T.StructField(\"Recency\", T.IntegerType()),\n",
    "    T.StructField(\"MntWines\", T.IntegerType()),\n",
    "    T.StructField(\"MntFruits\", T.IntegerType()),\n",
    "    T.StructField(\"MntMeatProducts\", T.IntegerType()),\n",
    "    T.StructField(\"MntFishProducts\", T.IntegerType()),\n",
    "    T.StructField(\"MntSweetProducts\", T.IntegerType()),\n",
    "    T.StructField(\"MntGoldProds\", T.IntegerType()),\n",
    "    T.StructField(\"NumDealsPurchases\", T.IntegerType()),\n",
    "    T.StructField(\"NumWebPurchases\", T.IntegerType()),\n",
    "    T.StructField(\"NumCatalogPurchases\", T.IntegerType()),\n",
    "    T.StructField(\"NumStorePurchases\", T.IntegerType()),\n",
    "    T.StructField(\"NumWebVisitsMonth\", T.IntegerType())\n",
    "])"
   ]
  },
  {
   "cell_type": "code",
   "execution_count": 8,
   "id": "850a2610-16a1-4c34-97e7-64330d424bec",
   "metadata": {},
   "outputs": [],
   "source": [
    "# read the CSV file into a table\n",
    "purchase_history = session.read\\\n",
    "    .option('FIELD_DELIMITER', ',')\\\n",
    "    .option('SKIP_HEADER', 1)\\\n",
    "    .option('ON_ERROR', 'CONTINUE')\\\n",
    "    .schema(purchase_history_schema).csv('@MY_STAGE/purchase_history.csv.gz')\\\n",
    "    .copy_into_table('PURCHASE_HISTORY')"
   ]
  },
  {
   "cell_type": "code",
   "execution_count": 9,
   "id": "84df41a9-d352-4549-8e16-dce06dbd7884",
   "metadata": {},
   "outputs": [
    {
     "name": "stdout",
     "output_type": "stream",
     "text": [
      "-----------------------------------------------------------------------------------------------------------------------------------------------------------------------------------------------------------------------------------------------------------------------------------------------------------------------------------------------\n",
      "|\"ID\"  |\"YEAR_BIRTH\"  |\"EDUCATION\"  |\"MARITAL_STATUS\"  |\"INCOME\"  |\"KIDHOME\"  |\"TEENHOME\"  |\"DT_CUSTOMER\"  |\"RECENCY\"  |\"MNTWINES\"  |\"MNTFRUITS\"  |\"MNTMEATPRODUCTS\"  |\"MNTFISHPRODUCTS\"  |\"MNTSWEETPRODUCTS\"  |\"MNTGOLDPRODS\"  |\"NUMDEALSPURCHASES\"  |\"NUMWEBPURCHASES\"  |\"NUMCATALOGPURCHASES\"  |\"NUMSTOREPURCHASES\"  |\"NUMWEBVISITSMONTH\"  |\n",
      "-----------------------------------------------------------------------------------------------------------------------------------------------------------------------------------------------------------------------------------------------------------------------------------------------------------------------------------------------\n",
      "|5524  |1957          |Graduation   |Single            |58138     |0          |0           |2012-09-04     |58         |635         |88           |546                |172                |88                  |88              |3                    |8                  |10                     |4                    |7                    |\n",
      "|2174  |1954          |Graduation   |Single            |46344     |1          |1           |2014-03-08     |38         |11          |1            |6                  |2                  |1                   |6               |2                    |1                  |1                      |2                    |5                    |\n",
      "|4141  |1965          |Graduation   |Together          |71613     |0          |0           |2013-08-21     |26         |426         |49           |127                |111                |21                  |42              |1                    |8                  |2                      |10                   |4                    |\n",
      "|6182  |1984          |Graduation   |Together          |26646     |1          |0           |2014-02-10     |26         |11          |4            |20                 |10                 |3                   |5               |2                    |2                  |0                      |4                    |6                    |\n",
      "|5324  |1981          |PhD          |Married           |58293     |1          |0           |2014-01-19     |94         |173         |43           |118                |46                 |27                  |15              |5                    |5                  |3                      |6                    |5                    |\n",
      "|7446  |1967          |Master       |Together          |62513     |0          |1           |2013-09-09     |16         |520         |42           |98                 |0                  |42                  |14              |2                    |6                  |4                      |10                   |6                    |\n",
      "|965   |1971          |Graduation   |Divorced          |55635     |0          |1           |2012-11-13     |34         |235         |65           |164                |50                 |49                  |27              |4                    |7                  |3                      |7                    |6                    |\n",
      "|6177  |1985          |PhD          |Married           |33454     |1          |0           |2013-05-08     |32         |76          |10           |56                 |3                  |1                   |23              |2                    |4                  |0                      |4                    |8                    |\n",
      "|4855  |1974          |PhD          |Together          |30351     |1          |0           |2013-06-06     |19         |14          |0            |24                 |3                  |3                   |2               |1                    |3                  |0                      |2                    |9                    |\n",
      "|5899  |1950          |PhD          |Together          |5648      |1          |1           |2014-03-13     |68         |28          |0            |6                  |1                  |1                   |13              |1                    |1                  |0                      |0                    |20                   |\n",
      "-----------------------------------------------------------------------------------------------------------------------------------------------------------------------------------------------------------------------------------------------------------------------------------------------------------------------------------------------\n",
      "\n"
     ]
    }
   ],
   "source": [
    "# show the table\n",
    "session.table('PURCHASE_HISTORY').show()"
   ]
  },
  {
   "cell_type": "markdown",
   "id": "f95b1d3c-00fc-4876-a184-7d232700e424",
   "metadata": {},
   "source": [
    "# Ingest JSON File"
   ]
  },
  {
   "cell_type": "code",
   "execution_count": 10,
   "id": "bd8f43d0-baf9-461d-83c6-108c95beb5b4",
   "metadata": {},
   "outputs": [
    {
     "data": {
      "text/plain": [
       "[PutResult(source='campaign_info.json', target='campaign_info.json.gz', source_size=316040, target_size=8324, source_compression='NONE', target_compression='GZIP', status='UPLOADED', message='')]"
      ]
     },
     "execution_count": 10,
     "metadata": {},
     "output_type": "execute_result"
    }
   ],
   "source": [
    "# put file in stage\n",
    "session.file.put('./datasets/campaign_info.json', 'MY_STAGE')"
   ]
  },
  {
   "cell_type": "code",
   "execution_count": 11,
   "id": "dfec8ca4-13f6-4c13-8edf-37d104e1798a",
   "metadata": {},
   "outputs": [],
   "source": [
    "# read JSON file data into a DataFrame\n",
    "df_from_json = session.read.json('@My_Stage/campaign_info.json.gz')"
   ]
  },
  {
   "cell_type": "code",
   "execution_count": 12,
   "id": "f7160e36-4936-472e-b780-b4687260a14b",
   "metadata": {},
   "outputs": [],
   "source": [
    "# write DataFrame into table as a variant\n",
    "df_from_json.write.save_as_table('CAMPAIGN_INFO_TEMP', mode = 'overwrite')"
   ]
  },
  {
   "cell_type": "code",
   "execution_count": 13,
   "id": "deea8d3d-7761-434c-a1e7-5f3a190a85d8",
   "metadata": {},
   "outputs": [
    {
     "name": "stdout",
     "output_type": "stream",
     "text": [
      "------------------------\n",
      "|\"$1\"                  |\n",
      "------------------------\n",
      "|{                     |\n",
      "|  \"AcceptedCmp1\": 0,  |\n",
      "|  \"AcceptedCmp2\": 0,  |\n",
      "|  \"AcceptedCmp3\": 0,  |\n",
      "|  \"AcceptedCmp4\": 0,  |\n",
      "|  \"AcceptedCmp5\": 0,  |\n",
      "|  \"ID\": 5524,         |\n",
      "|  \"Response\": 1       |\n",
      "|}                     |\n",
      "|{                     |\n",
      "|  \"AcceptedCmp1\": 0,  |\n",
      "|  \"AcceptedCmp2\": 0,  |\n",
      "|  \"AcceptedCmp3\": 0,  |\n",
      "|  \"AcceptedCmp4\": 0,  |\n",
      "|  \"AcceptedCmp5\": 0,  |\n",
      "|  \"ID\": 2174,         |\n",
      "|  \"Response\": 0       |\n",
      "|}                     |\n",
      "|{                     |\n",
      "|  \"AcceptedCmp1\": 0,  |\n",
      "|  \"AcceptedCmp2\": 0,  |\n",
      "|  \"AcceptedCmp3\": 0,  |\n",
      "|  \"AcceptedCmp4\": 0,  |\n",
      "|  \"AcceptedCmp5\": 0,  |\n",
      "|  \"ID\": 4141,         |\n",
      "|  \"Response\": 0       |\n",
      "|}                     |\n",
      "|{                     |\n",
      "|  \"AcceptedCmp1\": 0,  |\n",
      "|  \"AcceptedCmp2\": 0,  |\n",
      "|  \"AcceptedCmp3\": 0,  |\n",
      "|  \"AcceptedCmp4\": 0,  |\n",
      "|  \"AcceptedCmp5\": 0,  |\n",
      "|  \"ID\": 6182,         |\n",
      "|  \"Response\": 0       |\n",
      "|}                     |\n",
      "|{                     |\n",
      "|  \"AcceptedCmp1\": 0,  |\n",
      "|  \"AcceptedCmp2\": 0,  |\n",
      "|  \"AcceptedCmp3\": 0,  |\n",
      "|  \"AcceptedCmp4\": 0,  |\n",
      "|  \"AcceptedCmp5\": 0,  |\n",
      "|  \"ID\": 5324,         |\n",
      "|  \"Response\": 0       |\n",
      "|}                     |\n",
      "|{                     |\n",
      "|  \"AcceptedCmp1\": 0,  |\n",
      "|  \"AcceptedCmp2\": 0,  |\n",
      "|  \"AcceptedCmp3\": 0,  |\n",
      "|  \"AcceptedCmp4\": 0,  |\n",
      "|  \"AcceptedCmp5\": 0,  |\n",
      "|  \"ID\": 7446,         |\n",
      "|  \"Response\": 0       |\n",
      "|}                     |\n",
      "|{                     |\n",
      "|  \"AcceptedCmp1\": 0,  |\n",
      "|  \"AcceptedCmp2\": 0,  |\n",
      "|  \"AcceptedCmp3\": 0,  |\n",
      "|  \"AcceptedCmp4\": 0,  |\n",
      "|  \"AcceptedCmp5\": 0,  |\n",
      "|  \"ID\": 965,          |\n",
      "|  \"Response\": 0       |\n",
      "|}                     |\n",
      "|{                     |\n",
      "|  \"AcceptedCmp1\": 0,  |\n",
      "|  \"AcceptedCmp2\": 0,  |\n",
      "|  \"AcceptedCmp3\": 0,  |\n",
      "|  \"AcceptedCmp4\": 0,  |\n",
      "|  \"AcceptedCmp5\": 0,  |\n",
      "|  \"ID\": 6177,         |\n",
      "|  \"Response\": 0       |\n",
      "|}                     |\n",
      "|{                     |\n",
      "|  \"AcceptedCmp1\": 0,  |\n",
      "|  \"AcceptedCmp2\": 0,  |\n",
      "|  \"AcceptedCmp3\": 0,  |\n",
      "|  \"AcceptedCmp4\": 0,  |\n",
      "|  \"AcceptedCmp5\": 0,  |\n",
      "|  \"ID\": 4855,         |\n",
      "|  \"Response\": 1       |\n",
      "|}                     |\n",
      "|{                     |\n",
      "|  \"AcceptedCmp1\": 0,  |\n",
      "|  \"AcceptedCmp2\": 0,  |\n",
      "|  \"AcceptedCmp3\": 1,  |\n",
      "|  \"AcceptedCmp4\": 0,  |\n",
      "|  \"AcceptedCmp5\": 0,  |\n",
      "|  \"ID\": 5899,         |\n",
      "|  \"Response\": 0       |\n",
      "|}                     |\n",
      "------------------------\n",
      "\n"
     ]
    }
   ],
   "source": [
    "# query JSON table\n",
    "df_from_json.show()"
   ]
  },
  {
   "cell_type": "code",
   "execution_count": 14,
   "id": "deb7fdd1-f5c9-4d4b-912e-7b29083e3350",
   "metadata": {},
   "outputs": [],
   "source": [
    "# flatten DataFrame and write to a table\n",
    "from snowflake.snowpark.functions import col\n",
    "df_flatten = df_from_json.select(col('$1')['ID'].as_('ID'),\\\n",
    "    col('$1')['AcceptedCmp1'].as_('AcceptedCmp1'),\\\n",
    "    col('$1')['AcceptedCmp2'].as_('AcceptedCmp2'),\\\n",
    "    col('$1')['AcceptedCmp3'].as_('AcceptedCmp3'),\\\n",
    "    col('$1')['AcceptedCmp4'].as_('AcceptedCmp4'),\\\n",
    "    col('$1')['AcceptedCmp5'].as_('AcceptedCmp5'),\\\n",
    "    col('$1')['Response'].as_('Response'))\n",
    "df_flatten.write.save_as_table('CAMPAIGN_INFO')"
   ]
  },
  {
   "cell_type": "code",
   "execution_count": 15,
   "id": "22ff4815-08a9-4a87-8832-41352735d527",
   "metadata": {},
   "outputs": [
    {
     "name": "stdout",
     "output_type": "stream",
     "text": [
      "----------------------------------------------------------------------------------------------------------\n",
      "|\"ID\"  |\"ACCEPTEDCMP1\"  |\"ACCEPTEDCMP2\"  |\"ACCEPTEDCMP3\"  |\"ACCEPTEDCMP4\"  |\"ACCEPTEDCMP5\"  |\"RESPONSE\"  |\n",
      "----------------------------------------------------------------------------------------------------------\n",
      "|5524  |0               |0               |0               |0               |0               |1           |\n",
      "|2174  |0               |0               |0               |0               |0               |0           |\n",
      "|4141  |0               |0               |0               |0               |0               |0           |\n",
      "|6182  |0               |0               |0               |0               |0               |0           |\n",
      "|5324  |0               |0               |0               |0               |0               |0           |\n",
      "|7446  |0               |0               |0               |0               |0               |0           |\n",
      "|965   |0               |0               |0               |0               |0               |0           |\n",
      "|6177  |0               |0               |0               |0               |0               |0           |\n",
      "|4855  |0               |0               |0               |0               |0               |1           |\n",
      "|5899  |0               |0               |1               |0               |0               |0           |\n",
      "----------------------------------------------------------------------------------------------------------\n",
      "\n"
     ]
    }
   ],
   "source": [
    "# show the table\n",
    "session.table('CAMPAIGN_INFO').show()"
   ]
  },
  {
   "cell_type": "markdown",
   "id": "4e3ec0db-89db-4f56-8d56-37678130e613",
   "metadata": {},
   "source": [
    "# Ingest Parquet File"
   ]
  },
  {
   "cell_type": "code",
   "execution_count": 16,
   "id": "871d8677-ff4b-4f2d-bc43-02064bffd32b",
   "metadata": {},
   "outputs": [
    {
     "data": {
      "text/plain": [
       "[PutResult(source='complain_info.parquet', target='complain_info.parquet', source_size=6171, target_size=6171, source_compression='PARQUET', target_compression='PARQUET', status='UPLOADED', message='')]"
      ]
     },
     "execution_count": 16,
     "metadata": {},
     "output_type": "execute_result"
    }
   ],
   "source": [
    "# put file in stage\n",
    "session.file.put('./datasets/complain_info.parquet', 'MY_STAGE')"
   ]
  },
  {
   "cell_type": "code",
   "execution_count": 17,
   "id": "0f9c1245-3d6b-4cbd-a098-a56fd128b9f4",
   "metadata": {},
   "outputs": [
    {
     "data": {
      "text/plain": [
       "[Row(file='my_stage/complain_info.parquet', status='LOADED', rows_parsed=2240, rows_loaded=2240, error_limit=1, errors_seen=0, first_error=None, first_error_line=None, first_error_character=None, first_error_column_name=None)]"
      ]
     },
     "execution_count": 17,
     "metadata": {},
     "output_type": "execute_result"
    }
   ],
   "source": [
    "# access file and load it into a table\n",
    "df_raw = session.read.parquet('@My_Stage/complain_info.parquet')\n",
    "df_raw.copy_into_table('COMPLAINT_INFO')"
   ]
  },
  {
   "cell_type": "code",
   "execution_count": 18,
   "id": "0f3016ae-0881-4548-bde9-65131ee6ae42",
   "metadata": {},
   "outputs": [
    {
     "name": "stdout",
     "output_type": "stream",
     "text": [
      "-----------------------------------------------------\n",
      "|\"ID\"  |\"COMPLAIN\"  |\"Z_COSTCONTACT\"  |\"Z_REVENUE\"  |\n",
      "-----------------------------------------------------\n",
      "|5524  |0           |3                |11           |\n",
      "|2174  |0           |3                |11           |\n",
      "|4141  |0           |3                |11           |\n",
      "|6182  |0           |3                |11           |\n",
      "|5324  |0           |3                |11           |\n",
      "|7446  |0           |3                |11           |\n",
      "|965   |0           |3                |11           |\n",
      "|6177  |0           |3                |11           |\n",
      "|4855  |0           |3                |11           |\n",
      "|5899  |0           |3                |11           |\n",
      "-----------------------------------------------------\n",
      "\n"
     ]
    }
   ],
   "source": [
    "# show the table\n",
    "session.table('COMPLAINT_INFO').show()"
   ]
  },
  {
   "cell_type": "code",
   "execution_count": null,
   "id": "4b9750f0-ed29-44ec-9c06-f4511317c927",
   "metadata": {},
   "outputs": [],
   "source": []
  },
  {
   "cell_type": "code",
   "execution_count": null,
   "id": "bef25000-7190-4140-bcd1-add034dd6c2d",
   "metadata": {},
   "outputs": [],
   "source": []
  },
  {
   "cell_type": "code",
   "execution_count": null,
   "id": "d0f16f72-522a-470f-b98f-3512f93fc670",
   "metadata": {},
   "outputs": [],
   "source": []
  },
  {
   "cell_type": "code",
   "execution_count": null,
   "id": "e432ce98-0044-4994-84ae-d4a683da308d",
   "metadata": {},
   "outputs": [],
   "source": []
  },
  {
   "cell_type": "code",
   "execution_count": null,
   "id": "96fc9b53-0667-4fcc-885c-17ad9b038683",
   "metadata": {},
   "outputs": [],
   "source": []
  },
  {
   "cell_type": "code",
   "execution_count": null,
   "id": "c6ad3944-c9c5-4dc2-9fd6-f75bc385f137",
   "metadata": {},
   "outputs": [],
   "source": []
  },
  {
   "cell_type": "markdown",
   "id": "2c0b7f61-576b-49ae-a795-4554f006ce69",
   "metadata": {},
   "source": [
    "# Close Snowflake Session"
   ]
  },
  {
   "cell_type": "code",
   "execution_count": null,
   "id": "9c9b86ce-d6ad-437b-b552-29fbc0bb8955",
   "metadata": {},
   "outputs": [],
   "source": [
    "# always close a session\n",
    "session.close()"
   ]
  }
 ],
 "metadata": {
  "kernelspec": {
   "display_name": "Python 3 (ipykernel)",
   "language": "python",
   "name": "python3"
  },
  "language_info": {
   "codemirror_mode": {
    "name": "ipython",
    "version": 3
   },
   "file_extension": ".py",
   "mimetype": "text/x-python",
   "name": "python",
   "nbconvert_exporter": "python",
   "pygments_lexer": "ipython3",
   "version": "3.11.13"
  }
 },
 "nbformat": 4,
 "nbformat_minor": 5
}
